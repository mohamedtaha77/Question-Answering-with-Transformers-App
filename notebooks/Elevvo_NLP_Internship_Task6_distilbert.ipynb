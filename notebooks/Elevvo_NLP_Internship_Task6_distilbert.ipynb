{
 "cells": [
  {
   "cell_type": "markdown",
   "metadata": {
    "id": "y1cnuVtZi3BN"
   },
   "source": [
    "<h1><center></center></h1>\n",
    "<h1><center>Elevvo Internship</center></h1>\n",
    "<h1><center>Task 6</center></h1>\n",
    "<h2><center>Question Answering with Transformers</center></h2>"
   ]
  },
  {
   "cell_type": "markdown",
   "metadata": {
    "id": "yTUrtI7Ui_CB"
   },
   "source": [
    "# **Hands on Task 6**"
   ]
  },
  {
   "cell_type": "markdown",
   "metadata": {
    "id": "4wtoPzy3jE8j"
   },
   "source": [
    "In this notebook, we fine-tune and evaluate the DistilBERT model for extractive question answering.\n",
    "We use the distilbert-base-uncased checkpoint, which is lightweight and optimized for faster inference.\n",
    "\n",
    "**⚙️ Steps**\n",
    "\n",
    "- Load and preprocess dataset (SQuAD-like format).\n",
    "\n",
    "- Tokenize context–question pairs using HuggingFace DistilBertTokenizer.\n",
    "\n",
    "- Fine-tune DistilBertForQuestionAnswering.\n",
    "\n",
    "- Evaluate with EM (Exact Match) and F1 metrics.\n",
    "\n",
    "- Save model in folder: qa_model_distilbert-base-uncased/."
   ]
  },
  {
   "cell_type": "markdown",
   "metadata": {
    "id": "PufvTm1TjNt-"
   },
   "source": [
    "# **1- Data Collection**"
   ]
  },
  {
   "cell_type": "markdown",
   "metadata": {
    "id": "OkD_vYFejTlx"
   },
   "source": [
    "**Setup**"
   ]
  },
  {
   "cell_type": "code",
   "execution_count": 1,
   "metadata": {
    "colab": {
     "base_uri": "https://localhost:8080/"
    },
    "id": "Fbv-hZ6HjdFZ",
    "outputId": "43ddec14-733d-4216-80bf-fc72c1c16e3d"
   },
   "outputs": [
    {
     "name": "stdout",
     "output_type": "stream",
     "text": [
      "\u001b[?25l   \u001b[90m━━━━━━━━━━━━━━━━━━━━━━━━━━━━━━━━━━━━━━━━\u001b[0m \u001b[32m0.0/84.1 kB\u001b[0m \u001b[31m?\u001b[0m eta \u001b[36m-:--:--\u001b[0m\r",
      "\u001b[2K   \u001b[90m━━━━━━━━━━━━━━━━━━━━━━━━━━━━━━━━━━━━━━━━\u001b[0m \u001b[32m84.1/84.1 kB\u001b[0m \u001b[31m3.1 MB/s\u001b[0m eta \u001b[36m0:00:00\u001b[0m\n",
      "\u001b[?25h"
     ]
    }
   ],
   "source": [
    "!pip install transformers datasets accelerate evaluate --quiet"
   ]
  },
  {
   "cell_type": "markdown",
   "metadata": {
    "id": "PcIrwHmhjkAQ"
   },
   "source": [
    "**Import required libraries**"
   ]
  },
  {
   "cell_type": "code",
   "execution_count": 2,
   "metadata": {
    "id": "HP2nWhTAjsTS"
   },
   "outputs": [],
   "source": [
    "import random\n",
    "import numpy as np\n",
    "import torch\n",
    "from datasets import load_dataset"
   ]
  },
  {
   "cell_type": "markdown",
   "metadata": {
    "id": "ur2thLr-jyI_"
   },
   "source": [
    "**Set random seeds and device**"
   ]
  },
  {
   "cell_type": "code",
   "execution_count": 3,
   "metadata": {
    "colab": {
     "base_uri": "https://localhost:8080/",
     "height": 0
    },
    "id": "UeiZwdFmj5L0",
    "outputId": "f7705f4e-3114-48da-c7a4-d4ea5aea3ea3"
   },
   "outputs": [
    {
     "data": {
      "application/vnd.google.colaboratory.intrinsic+json": {
       "type": "string"
      },
      "text/plain": [
       "'cuda'"
      ]
     },
     "execution_count": 3,
     "metadata": {},
     "output_type": "execute_result"
    }
   ],
   "source": [
    "SEED = 42\n",
    "random.seed(SEED)\n",
    "np.random.seed(SEED)\n",
    "torch.manual_seed(SEED)\n",
    "if torch.cuda.is_available():\n",
    "    torch.cuda.manual_seed_all(SEED)\n",
    "\n",
    "device = \"cuda\" if torch.cuda.is_available() else \"cpu\"\n",
    "device"
   ]
  },
  {
   "cell_type": "markdown",
   "metadata": {
    "id": "6N8HHbO-kI0f"
   },
   "source": [
    "**Load the SQuAD v1.1 dataset from Hugging Face**"
   ]
  },
  {
   "cell_type": "code",
   "execution_count": 4,
   "metadata": {
    "colab": {
     "base_uri": "https://localhost:8080/",
     "height": 0,
     "referenced_widgets": [
      "3b9e0bea5fe147d5bcf233d94a1e65c9",
      "c7a8bcd10c544bda9b08464df3cd9a0d",
      "43a661af039c471ca245c58cb6359b8d",
      "f859b1153d6c46618d39be9016394f7b",
      "0ec933d9f1e54d8f8b1f2172a09d6caa",
      "7da1c9f8fa0543c78d2c82c04dfd770e",
      "1c52dd214fd242cd8641d14107841deb",
      "231ab3c8c566480394c7a1ba68ddf531",
      "434339e358b84caeb119f5c19fcd2db1",
      "10aaef8241c943238b4517e22c769f06",
      "c3949e7eab7649828b93111aa3329ac5",
      "9fec394b365e46aab4e0c8049d2b34fe",
      "4544c774b10e4f619d596bb8df1c0659",
      "5da9f977867049359e855dded7bc69d2",
      "e2ed4ba39ff240f78ffe12498027ac2c",
      "d2fa3f357a364abea3581ca090ed4f8e",
      "9c111cef5e3a490c86f97f3a57300120",
      "6c54a94804194772bb87b4efd76cec5d",
      "7b39f6752d484366a1b64e171c760525",
      "8cdb1ac59b724b37874496f2d787b715",
      "4e42ed6ed48d4590a9d7bc9f683c0709",
      "af7ea004374846b9b64e71ff68f1c85b",
      "52291bc964034ef7abacf0e4664ffe20",
      "31ec60d99ee847cda9cffa7d38b825c0",
      "164639928bdd45aea1a4aad7a7ac65ad",
      "f98b97ffce224d35bcf1992c42049060",
      "d6c92fbc23314fc1a9cce908624fa5d3",
      "1c848fa199084b2fb459764b0a818105",
      "4af6e77dff88420da8edc811e35688a2",
      "65ba6d4035854ec58ebf54e74c483761",
      "b7f287209ddb44fdaac07a854fc60fcf",
      "26792b1cf85946508fbed6b041e41965",
      "0f8bf95718ea486f95a280ea064ca1ef",
      "7599ec75244c495fa6610198b33cd8d1",
      "ef904bb02e634098b685138a0d90a162",
      "01ff6d88cec848749bb4c20d8806b58a",
      "24e6ab2e850c4d33ad0e67bc40bf618d",
      "5784014758cb497d8536f1a10743d849",
      "183390ae557b4c8a9a97823d1f8ad92d",
      "80723ce7520c4ae4a057d241fbef3fc3",
      "af596a159b43437a995786e8ac6f8865",
      "ca6793e7cf504cee801b284639739ce8",
      "9e97d167c711423b9db92f43fc9b3a96",
      "7922c8d535ea43f4bbe79e1506a4202a",
      "5634e2c0473442dd9fb5cf1ab83b62e4",
      "89eb6ac7ab0b42d8a09fef5fdab8d67c",
      "5e7a3853b9ff49b486262fc6bebdafeb",
      "f5a404d82b3b476ebf00c04e90a2c56a",
      "3c0282f26c48482483c4c2fd83cffe88",
      "c9b5b8e9b35449cea3e9feb6bcfffce0",
      "8c66df76e8db4d1b91bf5adcd2201ce4",
      "5707c2f4958847fa995d81740803dffb",
      "044ff11055084c97acd1c86a2753671c",
      "048c2a289c694539adfb0376f6803a90",
      "7e1d5a877eae458fbd6f992f5916b99a"
     ]
    },
    "id": "RLoY9FdNkShI",
    "outputId": "60049201-d4ea-4d03-b62c-412501982e82"
   },
   "outputs": [
    {
     "name": "stderr",
     "output_type": "stream",
     "text": [
      "/usr/local/lib/python3.12/dist-packages/huggingface_hub/utils/_auth.py:94: UserWarning: \n",
      "The secret `HF_TOKEN` does not exist in your Colab secrets.\n",
      "To authenticate with the Hugging Face Hub, create a token in your settings tab (https://huggingface.co/settings/tokens), set it as secret in your Google Colab and restart your session.\n",
      "You will be able to reuse this secret in all of your notebooks.\n",
      "Please note that authentication is recommended but still optional to access public models or datasets.\n",
      "  warnings.warn(\n"
     ]
    },
    {
     "data": {
      "application/vnd.jupyter.widget-view+json": {
       "model_id": "3b9e0bea5fe147d5bcf233d94a1e65c9",
       "version_major": 2,
       "version_minor": 0
      },
      "text/plain": [
       "README.md: 0.00B [00:00, ?B/s]"
      ]
     },
     "metadata": {},
     "output_type": "display_data"
    },
    {
     "data": {
      "application/vnd.jupyter.widget-view+json": {
       "model_id": "9fec394b365e46aab4e0c8049d2b34fe",
       "version_major": 2,
       "version_minor": 0
      },
      "text/plain": [
       "plain_text/train-00000-of-00001.parquet:   0%|          | 0.00/14.5M [00:00<?, ?B/s]"
      ]
     },
     "metadata": {},
     "output_type": "display_data"
    },
    {
     "data": {
      "application/vnd.jupyter.widget-view+json": {
       "model_id": "52291bc964034ef7abacf0e4664ffe20",
       "version_major": 2,
       "version_minor": 0
      },
      "text/plain": [
       "plain_text/validation-00000-of-00001.par(…):   0%|          | 0.00/1.82M [00:00<?, ?B/s]"
      ]
     },
     "metadata": {},
     "output_type": "display_data"
    },
    {
     "data": {
      "application/vnd.jupyter.widget-view+json": {
       "model_id": "7599ec75244c495fa6610198b33cd8d1",
       "version_major": 2,
       "version_minor": 0
      },
      "text/plain": [
       "Generating train split:   0%|          | 0/87599 [00:00<?, ? examples/s]"
      ]
     },
     "metadata": {},
     "output_type": "display_data"
    },
    {
     "data": {
      "application/vnd.jupyter.widget-view+json": {
       "model_id": "5634e2c0473442dd9fb5cf1ab83b62e4",
       "version_major": 2,
       "version_minor": 0
      },
      "text/plain": [
       "Generating validation split:   0%|          | 0/10570 [00:00<?, ? examples/s]"
      ]
     },
     "metadata": {},
     "output_type": "display_data"
    },
    {
     "data": {
      "text/plain": [
       "DatasetDict({\n",
       "    train: Dataset({\n",
       "        features: ['id', 'title', 'context', 'question', 'answers'],\n",
       "        num_rows: 87599\n",
       "    })\n",
       "    validation: Dataset({\n",
       "        features: ['id', 'title', 'context', 'question', 'answers'],\n",
       "        num_rows: 10570\n",
       "    })\n",
       "})"
      ]
     },
     "execution_count": 4,
     "metadata": {},
     "output_type": "execute_result"
    }
   ],
   "source": [
    "dataset = load_dataset(\"squad\")\n",
    "dataset"
   ]
  },
  {
   "cell_type": "markdown",
   "metadata": {
    "id": "rHeam73wkTzH"
   },
   "source": [
    "**Preview one sample**"
   ]
  },
  {
   "cell_type": "code",
   "execution_count": 5,
   "metadata": {
    "colab": {
     "base_uri": "https://localhost:8080/"
    },
    "id": "xGy3QcQykWnx",
    "outputId": "abcebad1-ca9f-41cc-96a1-eecba6446864"
   },
   "outputs": [
    {
     "data": {
      "text/plain": [
       "{'context': 'Architecturally, the school has a Catholic character. Atop the Main Building\\'s gold dome is a golden statue of the Virgin Mary. Immediately in front of the Main Building and facing it, is a copper statue of Christ with arms upraised with the legend \"Venite Ad Me Omnes\". Next to the Main Building is the Basilica of the Sacred Heart. Immediately behind the basilica is the Grotto, a Marian place of prayer and reflection. It is a replica of the grotto at Lourdes, France where the Virgin Mary reputedly appeared to Saint Bernadette Soubirous in 1858. At the end of the main drive (and in a direct line that connects through 3 statues and the Gold Dome), is a simple, modern stone statue of Mary.',\n",
       " 'question': 'To whom did the Virgin Mary allegedly appear in 1858 in Lourdes France?',\n",
       " 'answers': {'text': ['Saint Bernadette Soubirous'], 'answer_start': [515]}}"
      ]
     },
     "execution_count": 5,
     "metadata": {},
     "output_type": "execute_result"
    }
   ],
   "source": [
    "sample = dataset[\"train\"][0]\n",
    "{k: sample[k] for k in [\"context\", \"question\", \"answers\"]}"
   ]
  },
  {
   "cell_type": "markdown",
   "metadata": {
    "id": "dl7i22w8kZGP"
   },
   "source": [
    "**Check average context and answer lengths**"
   ]
  },
  {
   "cell_type": "code",
   "execution_count": 6,
   "metadata": {
    "colab": {
     "base_uri": "https://localhost:8080/"
    },
    "id": "7KPxVoKxkaeN",
    "outputId": "6bb2f6cc-ff07-471a-86be-a2e1a7d3aaf5"
   },
   "outputs": [
    {
     "data": {
      "text/plain": [
       "(np.float64(119.8), np.float64(3.16), np.float64(124.0), np.float64(3.02))"
      ]
     },
     "execution_count": 6,
     "metadata": {},
     "output_type": "execute_result"
    }
   ],
   "source": [
    "def avg_len(split):\n",
    "    ctx = np.mean([len(x[\"context\"].split()) for x in split])\n",
    "    ans = np.mean([len(x[\"answers\"][\"text\"][0].split()) for x in split])\n",
    "    return round(ctx,1), round(ans,2)\n",
    "\n",
    "avg_ctx_train, avg_ans_train = avg_len(dataset[\"train\"])\n",
    "avg_ctx_val, avg_ans_val = avg_len(dataset[\"validation\"])\n",
    "(avg_ctx_train, avg_ans_train, avg_ctx_val, avg_ans_val)"
   ]
  },
  {
   "cell_type": "markdown",
   "metadata": {
    "id": "GHrVZouYkgCE"
   },
   "source": [
    "**Save smaller subsets for quick tests**"
   ]
  },
  {
   "cell_type": "code",
   "execution_count": 7,
   "metadata": {
    "colab": {
     "base_uri": "https://localhost:8080/"
    },
    "id": "HWKohU-Nki5T",
    "outputId": "178f5481-6231-4bf5-c94e-a1d42d5b641c"
   },
   "outputs": [
    {
     "data": {
      "text/plain": [
       "(3000, 500)"
      ]
     },
     "execution_count": 7,
     "metadata": {},
     "output_type": "execute_result"
    }
   ],
   "source": [
    "small_train = dataset[\"train\"].select(range(3000))\n",
    "small_val = dataset[\"validation\"].select(range(500))\n",
    "len(small_train), len(small_val)"
   ]
  },
  {
   "cell_type": "markdown",
   "metadata": {
    "id": "QV8ZRq2wkrJW"
   },
   "source": [
    "# **2. Preprocessing**"
   ]
  },
  {
   "cell_type": "markdown",
   "metadata": {
    "id": "FAEZhIhYksmT"
   },
   "source": [
    "**Import tokenizer**"
   ]
  },
  {
   "cell_type": "code",
   "execution_count": 8,
   "metadata": {
    "id": "xWrcSXXxkubp"
   },
   "outputs": [],
   "source": [
    "from transformers import AutoTokenizer"
   ]
  },
  {
   "cell_type": "markdown",
   "metadata": {
    "id": "nUiFUfKvkwtk"
   },
   "source": [
    "**Choose all model**"
   ]
  },
  {
   "cell_type": "code",
   "execution_count": 9,
   "metadata": {
    "id": "2nfQsR4_kyae"
   },
   "outputs": [],
   "source": [
    "MODEL_NAMES = [\n",
    "    \"distilbert-base-uncased\",\n",
    "    \"bert-base-uncased\",\n",
    "    \"roberta-base\",\n",
    "    \"albert-base-v2\"\n",
    "]"
   ]
  },
  {
   "cell_type": "markdown",
   "metadata": {
    "id": "rVvbDRKek0CD"
   },
   "source": [
    "**Build tokenizers**"
   ]
  },
  {
   "cell_type": "code",
   "execution_count": 10,
   "metadata": {
    "colab": {
     "base_uri": "https://localhost:8080/",
     "height": 630,
     "referenced_widgets": [
      "60b719595acd498592b4d097812d1ab7",
      "107057d79e7244988bc3671eadc90c51",
      "a953cb0fb64f4f4e83d0a50a287cdb78",
      "819118e7fb37492092565cb8973aeb8e",
      "7ed91c369421460c89a1a5a1a88c3bfa",
      "6f3a92ce04be4f93be52fd6c776b4c2a",
      "ff64665244c74f9389cad56944c248f9",
      "550177ef68e341e2be3089f2a0cd9d91",
      "34bea95072024336a949411f6c168e10",
      "f7c6ec3e591347b084694aafa2cd75cd",
      "dee08fb134be474999e46c98db8956b4",
      "d0f517abb03844769aa1e9bc8f3cc7a7",
      "5448f5ef64b1401fa11bb3b39f494c99",
      "3434cd8370fd426983ea555d033854a6",
      "d97b22516688477eba1772d3f2f8247a",
      "44c54811c1f04c579d4c1081dd5d2cb2",
      "364540f3cc9144dd81e44239599a9152",
      "41803009342842e18cc2bb716b8eb186",
      "d2050b2b205340dda2b86b9503f39e8a",
      "aba8e96e667d4b84a00eee14d2658a38",
      "d08159bdd2254671af80fd929e26008b",
      "28a01f2b03f64374b6e204dfdf8d9a55",
      "1c14a572922f46d7b036793503c6a0a6",
      "5405bf176c264e25b2470358f8fc2975",
      "31aa2b56b3484730b7e3f5ccecbb97cc",
      "6832e59d72e84e2394f01f378a0549da",
      "057a152c028445c5a022827897d51314",
      "542a2fe0389644ac86d13de12172cbda",
      "4ae45617910e4dfba458d96b09ff9efc",
      "c93b02b0716c435bb0bd69e9bf33a3eb",
      "7b4f3d70c7074fa88d8a36ef144fa211",
      "3a012ac64ce445a78f5e79146c987907",
      "ff21d84741814f77be4bcf98ccd75387",
      "4614943ef2514ca2bfdf374be415d4fe",
      "03118f5a7e714e749e2852d745e76725",
      "672085012ac2447085a5079069b7196e",
      "fade9f1a1be3477d8e0339b4e96adcd4",
      "38fc036f011a458c9938da241887aceb",
      "a4651135021546bc9b8fb3978af32111",
      "6db3afd10d094a4583b0f5ae145cb475",
      "c5ea68c7888f48fc93b90ecdc23dc6be",
      "54c53d48203f40138f5b4ec797512b88",
      "fd9be59014b1416a9b63202ff34c925c",
      "6bb2ea83f56f49ee8cf922a7a2c2055b",
      "2bf54220f5b8434f96b8e4a957a69802",
      "b14495ccfa3a4ece938b57b26c1b3b6e",
      "f68ba1cfe15145db8c10fc0cae3e9d4f",
      "fd9d69d4c8334db4aa16f0f98303f3fb",
      "c401c67f0f5f439c81c109ae69ecc76b",
      "0226a43d43e6481aa176daefc17c4868",
      "75ae5bfea3e84654ab2dd5cc31d7d032",
      "661f96d37efa48ad81cda5de616cb54a",
      "138d6d89d08d48e8b28398949ac19da6",
      "6d0dc1a8b7a14619848efea7e0ecbf83",
      "10db4c50de3d4b689dbc3f884893173d",
      "0999aae8317548a498d281fc072a7dcd",
      "b1df1c0e3d7a4a9f87b3f7c199eb62d4",
      "8bf7e72e1f0443089f607ed0adedda54",
      "b75e220f70c94f32bc4765ed19b02582",
      "268cd047f63b4efda60a712036675367",
      "3093745cabc542888d142df318003692",
      "135c47baea334ab790272dcb0805138d",
      "82a2e8f9c651484a89b40cd6aadf3195",
      "1e60e8b1b6ef4bb4a5f9d228d98d76d3",
      "c37fbc0818b54b199385d913c7589740",
      "113b26734ef842419e361dbd7226d1db",
      "319b98b90b104ef2b479b6cc5a2a144b",
      "b889aa0637b14de7ba3ae8a3c7e5f153",
      "3f18ad87c7f84344929f08ffa140dc9e",
      "9eeaad5f24484dc89b95ff7ee1f3ceaa",
      "26f17b1534ef4cafb0853a1acb0db292",
      "532e360f769842a2911fc2d3589eb985",
      "aff79902bb404a4fbd65694a0c3e1287",
      "dc7fb4e9324b4a258e6d1fd32c5ba13d",
      "4e118d414bbf4786b2fe7d2b83bee052",
      "b28721f9890745af86c9d2add8a2a8ac",
      "3ed00d004a384ba2adf807f523d92e2e",
      "a68c05f926c84872acea193355681446",
      "4e084b423ce04323aae8658c2ba89eca",
      "c248af6cd5ed429c8526c5cc670898bd",
      "fc6c02ccb2aa4ce488dcd39cd81716b3",
      "4926510c380d4b90a4022906bf8ea09b",
      "4f2dedff59dc45f39f88d8f9261d4b91",
      "2f72b48c1cb24b8b816cd12b7da25281",
      "181ecfe6a2264c628116b63e7df38109",
      "dfeadd9c4b294935a9de1071902615c8",
      "f3dc5fdcbcd244f3a9934aefcdabcee7",
      "d5ba9f1ceda24b1f88ec195ab473f05d",
      "15a675d4deb84503a2eb94e9eac234d3",
      "1e32768911b84e1b91cefd5e76321dc9",
      "47b1928c40fb4541a15b654ea6c4f896",
      "8076a4b22cd64a189c8b85b95e46e8a6",
      "0f16986348414118801fd22b2434ffd8",
      "d73f4c60ed8743e99a457b5572395f3c",
      "b8951de6d0a4493e83989f44236b2c97",
      "afad7c0aec4040108954bab7417e3ad9",
      "1ff8535f9fba46c19e0c86780ee7aa21",
      "9d117a83d4eb4affb7a5bc7116e3ceb5",
      "b9b76abde3c64ac9a0c1d57607e984c3",
      "e830d427c610419c85054938df1b716c",
      "1215b26364d4448d9c6dda9a99605833",
      "0900f74843104703a8a234a6849cf814",
      "80d6ad39ff02491db6ff0cc11b78acda",
      "edacb9aa92e5454db62359b7c730c121",
      "ce42d0968b74407bbc6f2efdd530ea12",
      "36edd4d9e69a44218fd70305c0af14bd",
      "38c175b8f7754d5396d9d2efba8ff8ca",
      "88b85424ca6747bcad8ce32e35817da6",
      "f2f4a2be44a54307804a53f69a97d1c5",
      "21a924a251244508b9c976fe21e53c54",
      "3dee1b05718b4ddb9b589a71cbb14cdb",
      "7fb31ded6ad04ba2a5c4c56d6633564b",
      "2be0522f5c2d4eba8aed892874daa25e",
      "aa6471918e334a93b8bbda1cdd595dbe",
      "894f0130c84a45a6aa982dc7cb65b4f4",
      "b169ace27dfd4885bc16d962dccec38c",
      "b65df2f93d1a4525be56bc95f6e5421d",
      "4366d600fc7b4497bbe6816d2966d25c",
      "c8ef8307f2144e298378197df3c1c15d",
      "43757cfedb714aa685ef498c473fd0c2",
      "c92c27b87818420183d798c5db55041e",
      "a2df3a60c134426680c0aee7284677b5",
      "a15e33ba6049441f85737e4ab96481b8",
      "9a9592e6614342729882e44dfcffd879",
      "1826f1b362c04f6182380539ec948e94",
      "56a007cc7ad44f6eb039c153134b0c08",
      "5626d7ea193d42e6808c6fe123d89a8b",
      "13b8656e4c4d4383940898105b88b229",
      "1b4ab6cd275941119aac8965c6f0c7fc",
      "c57255fcf66647d5b374d8a4d9ee1704",
      "a3b82eb802b547439c3455f1ca2aeb61",
      "d28e6599ac9342b9804e73d0d4251f3e",
      "444fbdf23b3c48c39aa975139e2e7fde",
      "cbff4394b10745f2b609c35d0cc61676",
      "95b8b68765494624863c39a9dc6bf141",
      "ac3dc18de5d248098f62221dd21a3131",
      "1380487531ab4ff0ba74b8a9ecc599ab",
      "8f25a202b2d4430bac7e04e789c025bd",
      "143b7d73817049158c91d69f7e700e71",
      "c90853dd33c643c691faa9f0c77cf353",
      "e81004487061418ab9e8abe50b8a47c2",
      "656238b36565447fb12d1007fa2487f5",
      "57fb421b646d4da9a45850732c905432",
      "f5a50f44ffc24ffe89d6cdbe5b8c6997",
      "e82d9979a5af4fad9d2d83c26e6d89dc",
      "543062150a4d4748b973740fe28fa30e",
      "bcf3b03cf0e74b08b259c7d13d77b9b8",
      "0e5d081fcab946da9ff4c75e5c17e751",
      "37e44ece721a40048bc677b537bda076",
      "8635a8606f804219a5fbd191124bd012",
      "d8d051ed75c04f5d82adf0d2826f8242",
      "b3178af68862465b9edb584f8af75889",
      "797e9cc9a14d4b99b470560f4583bd2f",
      "7d254131e92d4c7cac9343dc1e2f1820",
      "f69ac279b2d14912bb3d8872e4de87dc",
      "9a1a4e5254eb4382983a17c0562a42e6",
      "3155c397acc749a693eb6451f0da9597",
      "b27e4df1a37342e5bebd229604865f5c",
      "a46c8196deae494da9c205b334b4be4d",
      "b32304793fc04bd48edb126b5bfe707c",
      "dc4ad403696a42618fea94a6336e6c0a",
      "dba2640a41834f14bff1bac5d774a191",
      "3b96ee6df4ec4e90bcfb281ea9e25317",
      "7a6e00a3db4747a49ca46659ef771607",
      "c63168c07826478abff614f8861f4f84",
      "94d9fc674c5f47cb800dddee0505a077",
      "f945157826f8438a888666cd77f102d5",
      "3139fed11f05405aa27e55fee8be4004",
      "15b2523078f9462a846b5fba8d571f82",
      "de8530cdfbba47b1afab77b51971a508",
      "7e30afa0c56e46afaa91737b95a55b92",
      "681e6dbbaf564486957153e3b2769ce2",
      "fbb411a2c82940c3a52ccc14be7cbae4",
      "b59efad0349e47b5b75b2ddb5ee8c812",
      "3551fd30bb5a40d6beaddc7fbc9317b0",
      "44f9ff5e914f4a0fb342aebc57e38d63",
      "beecbbc4be7f4b5193404a13f364eb7f",
      "f4cce3368ffb4f5b8cf3ba61e0ef4e06",
      "d92443d8afa248e791e16464b75e092d",
      "8a65196293e341f59e824b17235c04fa",
      "7523dcc8549548148e5af1427579fb8e",
      "2258e6cfe924469cbaccba0787b579ec",
      "95a9b2e3e25a476482a784430f2df04c",
      "cd24e0fdf5174fabbff131697e5804e5",
      "7e3ae9b567054fb08f215410980fba91",
      "356a4367bd0c42a98fd79bfce7a324d0",
      "dc27b72ce45e4800833b3b87099033c5"
     ]
    },
    "collapsed": true,
    "id": "gEThzZB6k1sY",
    "outputId": "220f0ef5-b72e-425f-b6ac-eb4114f263f8"
   },
   "outputs": [
    {
     "data": {
      "application/vnd.jupyter.widget-view+json": {
       "model_id": "60b719595acd498592b4d097812d1ab7",
       "version_major": 2,
       "version_minor": 0
      },
      "text/plain": [
       "tokenizer_config.json:   0%|          | 0.00/48.0 [00:00<?, ?B/s]"
      ]
     },
     "metadata": {},
     "output_type": "display_data"
    },
    {
     "data": {
      "application/vnd.jupyter.widget-view+json": {
       "model_id": "d0f517abb03844769aa1e9bc8f3cc7a7",
       "version_major": 2,
       "version_minor": 0
      },
      "text/plain": [
       "config.json:   0%|          | 0.00/483 [00:00<?, ?B/s]"
      ]
     },
     "metadata": {},
     "output_type": "display_data"
    },
    {
     "data": {
      "application/vnd.jupyter.widget-view+json": {
       "model_id": "1c14a572922f46d7b036793503c6a0a6",
       "version_major": 2,
       "version_minor": 0
      },
      "text/plain": [
       "vocab.txt:   0%|          | 0.00/232k [00:00<?, ?B/s]"
      ]
     },
     "metadata": {},
     "output_type": "display_data"
    },
    {
     "data": {
      "application/vnd.jupyter.widget-view+json": {
       "model_id": "4614943ef2514ca2bfdf374be415d4fe",
       "version_major": 2,
       "version_minor": 0
      },
      "text/plain": [
       "tokenizer.json:   0%|          | 0.00/466k [00:00<?, ?B/s]"
      ]
     },
     "metadata": {},
     "output_type": "display_data"
    },
    {
     "data": {
      "application/vnd.jupyter.widget-view+json": {
       "model_id": "2bf54220f5b8434f96b8e4a957a69802",
       "version_major": 2,
       "version_minor": 0
      },
      "text/plain": [
       "tokenizer_config.json:   0%|          | 0.00/48.0 [00:00<?, ?B/s]"
      ]
     },
     "metadata": {},
     "output_type": "display_data"
    },
    {
     "data": {
      "application/vnd.jupyter.widget-view+json": {
       "model_id": "0999aae8317548a498d281fc072a7dcd",
       "version_major": 2,
       "version_minor": 0
      },
      "text/plain": [
       "config.json:   0%|          | 0.00/570 [00:00<?, ?B/s]"
      ]
     },
     "metadata": {},
     "output_type": "display_data"
    },
    {
     "data": {
      "application/vnd.jupyter.widget-view+json": {
       "model_id": "319b98b90b104ef2b479b6cc5a2a144b",
       "version_major": 2,
       "version_minor": 0
      },
      "text/plain": [
       "vocab.txt:   0%|          | 0.00/232k [00:00<?, ?B/s]"
      ]
     },
     "metadata": {},
     "output_type": "display_data"
    },
    {
     "data": {
      "application/vnd.jupyter.widget-view+json": {
       "model_id": "a68c05f926c84872acea193355681446",
       "version_major": 2,
       "version_minor": 0
      },
      "text/plain": [
       "tokenizer.json:   0%|          | 0.00/466k [00:00<?, ?B/s]"
      ]
     },
     "metadata": {},
     "output_type": "display_data"
    },
    {
     "data": {
      "application/vnd.jupyter.widget-view+json": {
       "model_id": "15a675d4deb84503a2eb94e9eac234d3",
       "version_major": 2,
       "version_minor": 0
      },
      "text/plain": [
       "tokenizer_config.json:   0%|          | 0.00/25.0 [00:00<?, ?B/s]"
      ]
     },
     "metadata": {},
     "output_type": "display_data"
    },
    {
     "data": {
      "application/vnd.jupyter.widget-view+json": {
       "model_id": "e830d427c610419c85054938df1b716c",
       "version_major": 2,
       "version_minor": 0
      },
      "text/plain": [
       "config.json:   0%|          | 0.00/481 [00:00<?, ?B/s]"
      ]
     },
     "metadata": {},
     "output_type": "display_data"
    },
    {
     "data": {
      "application/vnd.jupyter.widget-view+json": {
       "model_id": "3dee1b05718b4ddb9b589a71cbb14cdb",
       "version_major": 2,
       "version_minor": 0
      },
      "text/plain": [
       "vocab.json:   0%|          | 0.00/899k [00:00<?, ?B/s]"
      ]
     },
     "metadata": {},
     "output_type": "display_data"
    },
    {
     "data": {
      "application/vnd.jupyter.widget-view+json": {
       "model_id": "a2df3a60c134426680c0aee7284677b5",
       "version_major": 2,
       "version_minor": 0
      },
      "text/plain": [
       "merges.txt:   0%|          | 0.00/456k [00:00<?, ?B/s]"
      ]
     },
     "metadata": {},
     "output_type": "display_data"
    },
    {
     "data": {
      "application/vnd.jupyter.widget-view+json": {
       "model_id": "444fbdf23b3c48c39aa975139e2e7fde",
       "version_major": 2,
       "version_minor": 0
      },
      "text/plain": [
       "tokenizer.json:   0%|          | 0.00/1.36M [00:00<?, ?B/s]"
      ]
     },
     "metadata": {},
     "output_type": "display_data"
    },
    {
     "data": {
      "application/vnd.jupyter.widget-view+json": {
       "model_id": "f5a50f44ffc24ffe89d6cdbe5b8c6997",
       "version_major": 2,
       "version_minor": 0
      },
      "text/plain": [
       "tokenizer_config.json:   0%|          | 0.00/25.0 [00:00<?, ?B/s]"
      ]
     },
     "metadata": {},
     "output_type": "display_data"
    },
    {
     "data": {
      "application/vnd.jupyter.widget-view+json": {
       "model_id": "f69ac279b2d14912bb3d8872e4de87dc",
       "version_major": 2,
       "version_minor": 0
      },
      "text/plain": [
       "config.json:   0%|          | 0.00/684 [00:00<?, ?B/s]"
      ]
     },
     "metadata": {},
     "output_type": "display_data"
    },
    {
     "data": {
      "application/vnd.jupyter.widget-view+json": {
       "model_id": "94d9fc674c5f47cb800dddee0505a077",
       "version_major": 2,
       "version_minor": 0
      },
      "text/plain": [
       "spiece.model:   0%|          | 0.00/760k [00:00<?, ?B/s]"
      ]
     },
     "metadata": {},
     "output_type": "display_data"
    },
    {
     "data": {
      "application/vnd.jupyter.widget-view+json": {
       "model_id": "beecbbc4be7f4b5193404a13f364eb7f",
       "version_major": 2,
       "version_minor": 0
      },
      "text/plain": [
       "tokenizer.json:   0%|          | 0.00/1.31M [00:00<?, ?B/s]"
      ]
     },
     "metadata": {},
     "output_type": "display_data"
    },
    {
     "data": {
      "text/plain": [
       "['distilbert-base-uncased',\n",
       " 'bert-base-uncased',\n",
       " 'roberta-base',\n",
       " 'albert-base-v2']"
      ]
     },
     "execution_count": 10,
     "metadata": {},
     "output_type": "execute_result"
    }
   ],
   "source": [
    "tokenizers = {name: AutoTokenizer.from_pretrained(name, use_fast=True) for name in MODEL_NAMES}\n",
    "list(tokenizers.keys())"
   ]
  },
  {
   "cell_type": "markdown",
   "metadata": {
    "id": "0JrQLxnek23L"
   },
   "source": [
    "**Tokenization setup**"
   ]
  },
  {
   "cell_type": "code",
   "execution_count": 11,
   "metadata": {
    "id": "W_nx7vFfk6Py"
   },
   "outputs": [],
   "source": [
    "def safe_lengths(tok, desired_max=384, desired_stride=128):\n",
    "    m = tok.model_max_length if isinstance(tok.model_max_length, int) else 512\n",
    "    max_len = min(desired_max, m)\n",
    "    # ensure stride < max_len and leaves room for special tokens\n",
    "    stride = min(desired_stride, max_len - 32) if max_len > 32 else max(1, max_len // 4)\n",
    "    return max_len, stride"
   ]
  },
  {
   "cell_type": "markdown",
   "metadata": {
    "id": "YiT6B4rDk8Iz"
   },
   "source": [
    "**training feature builder (per tokenizer)**"
   ]
  },
  {
   "cell_type": "code",
   "execution_count": 12,
   "metadata": {
    "id": "GPigSRoDoB0t"
   },
   "outputs": [],
   "source": [
    "def make_prepare_train_features(tok):\n",
    "    pad_on_right = tok.padding_side == \"right\"\n",
    "    max_length, doc_stride = safe_lengths(tok)\n",
    "\n",
    "    def _fn(examples):\n",
    "        tokenized = tok(\n",
    "            examples[\"question\" if pad_on_right else \"context\"],\n",
    "            examples[\"context\"  if pad_on_right else \"question\"],\n",
    "            truncation=True,\n",
    "            max_length=max_length,\n",
    "            stride=doc_stride,\n",
    "            return_overflowing_tokens=True,\n",
    "            return_offsets_mapping=True,\n",
    "            padding=\"max_length\"\n",
    "        )\n",
    "\n",
    "        sample_map = tokenized.pop(\"overflow_to_sample_mapping\")\n",
    "        offset_mapping = tokenized.pop(\"offset_mapping\")\n",
    "\n",
    "        start_positions = []\n",
    "        end_positions = []\n",
    "\n",
    "        for i, offsets in enumerate(offset_mapping):\n",
    "            input_ids = tokenized[\"input_ids\"][i]\n",
    "            cls_index = input_ids.index(tok.cls_token_id) if tok.cls_token_id in input_ids else 0\n",
    "            sample_idx = sample_map[i]\n",
    "            answers = examples[\"answers\"][sample_idx]\n",
    "\n",
    "            if len(answers[\"answer_start\"]) == 0:\n",
    "                start_positions.append(cls_index)\n",
    "                end_positions.append(cls_index)\n",
    "                continue\n",
    "\n",
    "            start_char = answers[\"answer_start\"][0]\n",
    "            end_char = start_char + len(answers[\"text\"][0])\n",
    "\n",
    "            sequence_ids = tokenized.sequence_ids(i)\n",
    "\n",
    "            # find context token span\n",
    "            idx = 0\n",
    "            ctx_id = 1 if pad_on_right else 0\n",
    "            while idx < len(sequence_ids) and sequence_ids[idx] != ctx_id:\n",
    "                idx += 1\n",
    "            context_start = idx\n",
    "            while idx < len(sequence_ids) and sequence_ids[idx] == ctx_id:\n",
    "                idx += 1\n",
    "            context_end = idx - 1\n",
    "\n",
    "            if context_start >= len(offsets) or context_end < 0:\n",
    "                start_positions.append(cls_index)\n",
    "                end_positions.append(cls_index)\n",
    "                continue\n",
    "\n",
    "            if not (offsets[context_start] and offsets[context_start][0] <= start_char and\n",
    "                    offsets[context_end] and offsets[context_end][1] >= end_char):\n",
    "                start_positions.append(cls_index)\n",
    "                end_positions.append(cls_index)\n",
    "            else:\n",
    "                while context_start < len(offsets):\n",
    "                    o = offsets[context_start]\n",
    "                    if o and o[0] <= start_char < o[1]:\n",
    "                        break\n",
    "                    context_start += 1\n",
    "\n",
    "                while context_end >= 0:\n",
    "                    o = offsets[context_end]\n",
    "                    if o and o[0] < end_char <= o[1]:\n",
    "                        break\n",
    "                    context_end -= 1\n",
    "\n",
    "                start_positions.append(context_start if context_start >= 0 else cls_index)\n",
    "                end_positions.append(context_end if context_end >= 0 else cls_index)\n",
    "\n",
    "        tokenized[\"start_positions\"] = start_positions\n",
    "        tokenized[\"end_positions\"] = end_positions\n",
    "        return tokenized\n",
    "\n",
    "    return _fn"
   ]
  },
  {
   "cell_type": "markdown",
   "metadata": {
    "id": "_FKAqFJkr4kh"
   },
   "source": [
    "**validation feature builder (per tokenizer)**"
   ]
  },
  {
   "cell_type": "code",
   "execution_count": 13,
   "metadata": {
    "id": "KXp2xoF5r67I"
   },
   "outputs": [],
   "source": [
    "def make_prepare_validation_features(tok):\n",
    "    pad_on_right = tok.padding_side == \"right\"\n",
    "    max_length, doc_stride = safe_lengths(tok)\n",
    "\n",
    "    def _fn(examples):\n",
    "        tokenized = tok(\n",
    "            examples[\"question\" if pad_on_right else \"context\"],\n",
    "            examples[\"context\"  if pad_on_right else \"question\"],\n",
    "            truncation=True,\n",
    "            max_length=max_length,\n",
    "            stride=doc_stride,\n",
    "            return_overflowing_tokens=True,\n",
    "            return_offsets_mapping=True,\n",
    "            padding=\"max_length\"\n",
    "        )\n",
    "\n",
    "        sample_map = tokenized.pop(\"overflow_to_sample_mapping\")\n",
    "        tokenized[\"example_id\"] = []\n",
    "\n",
    "        for i in range(len(tokenized[\"input_ids\"])):\n",
    "            sample_idx = sample_map[i]\n",
    "            tokenized[\"example_id\"].append(examples[\"id\"][sample_idx])\n",
    "\n",
    "            sequence_ids = tokenized.sequence_ids(i)\n",
    "            ctx_id = 1 if pad_on_right else 0\n",
    "            offsets = tokenized[\"offset_mapping\"][i]\n",
    "            tokenized[\"offset_mapping\"][i] = [\n",
    "                o if sequence_ids[k] == ctx_id else None\n",
    "                for k, o in enumerate(offsets)\n",
    "            ]\n",
    "\n",
    "        return tokenized\n",
    "\n",
    "    return _fn"
   ]
  },
  {
   "cell_type": "markdown",
   "metadata": {
    "id": "QtrS6Trxr_Oc"
   },
   "source": [
    "**Map features for every model**"
   ]
  },
  {
   "cell_type": "code",
   "execution_count": 14,
   "metadata": {
    "colab": {
     "base_uri": "https://localhost:8080/",
     "height": 342,
     "referenced_widgets": [
      "dd8ac1dbfdd84d778148e5827936b34c",
      "7f5134443a6f492983a4854f1167cef5",
      "868bbddd17fb438689ddfddfd76dbc43",
      "3b5b705edd3043228b720e6193a4d12c",
      "d6a15f8d20b246248b64b79068f58c21",
      "cf59045a55264b96a5504b469945dd9f",
      "e837ba260be541a3841a334171bd4d07",
      "a66c18593be3478aabe428c99f93395b",
      "ab1e4b43219e40e9998da1bb36a50947",
      "58328272cb88465db4553c3fdd7f1d2a",
      "9359924608a240a3ae209fab628aabcd",
      "aa4944df68dc4d85b35eb9764a635586",
      "904664f713594e568c693bebdd155a30",
      "482d2d1ddb4e49728a05616a67bee274",
      "a0a23e1ae20a4daa8f8831a2978fc7fc",
      "56c8b36b1d58452ea0f013a8c5223f14",
      "2f55913908794329b3b3591d6ced915e",
      "28ae78a60cf543489eeee2cb0f60e099",
      "49c65f3bd8b94089916ede16dff7f042",
      "bd9aa646a2b843668b1366de4b3f8b51",
      "a37ee87ee84b4a8cb1f2105a32eaa1e8",
      "70dba79afd1a4cfa8e615753be87a499",
      "1a9f10df32494f22978801c1a4e7c5c0",
      "7c9170884ca9490693257c408f72f4e5",
      "368b44dad6004076b5cea72c9f748064",
      "63a365a10327480ba46557b02a0eff34",
      "8db07648129149a5998ac85cf6f8c064",
      "6111d12212474079a2e1614f497af0d0",
      "3789f64a59e441d388eacd65ae82d6c6",
      "39a27789561f4cae85afe005eb174974",
      "7751ee94b02e47be88b4689e7487a2c3",
      "cbfa89b74b274508bf3ab0f3a0e0a741",
      "a338b74161524baabf47a62e2e636b94",
      "6e0ed107f7064469a399e2a78148d9c5",
      "476f2bafe54c4f108f6086be11a77b2f",
      "b7ed0a2613774f97885d9e4404683acc",
      "73b5c74502a541b39a503ba59c29d8fd",
      "16a3a575e35a4f4dac5b5b56e89cf42d",
      "46ca7c88d06d4c85b951b28c9bac64e7",
      "a938d1af7a484e0086f3417d36605691",
      "e7e3c22bd84440a4b03c2dff3b9bdee5",
      "92caa00d11f5462d80a4c1fed2031562",
      "8a85b394d2d94ecc8e61d6e8408ccb29",
      "4a33ba60711143afa23d332083c513f0",
      "fac69deec329423c85e0971b8b4b227f",
      "fe87268da82d4fe78968332157a4761c",
      "c0d26c102be544f28661ad0353c9bdcb",
      "ea95e96944a94e34b7ab130a2bafff86",
      "67fd68081bb14843b99fa3c7fc4758e4",
      "e81ea9c5e26c41a1810b0cbcf705c75d",
      "9d22b0bc751441bda2f77bfd99d4b8db",
      "7af5b18f7e4c4f8e9420ca17c6751fff",
      "9256a96203d443058d64783e8dbf9d11",
      "130508510fee4eee88b66d1ea158dc2a",
      "5411feedda47434bb2e5adfb566efa9e",
      "6034f90c8d554a8ab8a5503ca157fbd4",
      "61f875cd2f5649539fdc7d6a92d99a9b",
      "7272c46c7bc04746898d3cd86c98d254",
      "e537bfed32d645c19a6660e457e78e31",
      "67c23cb47fbc4bc28246b0a8c01a4c34",
      "e719bef20bb14375a0ca95ccf2f90998",
      "d0e7f547923341b98b0318b5cdc57cdd",
      "e9bfac9e2b484154a1fed795038126f0",
      "2bdfab6dbd444f9682fc028b131bf5b2",
      "1c068257fbf040e2bbd7a7d3350a29d8",
      "c9384efa6e0b49439acf4ae2921ef6a5",
      "d10f09a1d79a48c9b139ca228587d669",
      "314d4fd2e93e4ec8b258abdffe3e9ed3",
      "1b00e1191fa84e6688be9c8c09f3ae19",
      "53e2e9abb76941539168b7e9461bc701",
      "b4a167fc97a847298c0b14d9ae9ad63d",
      "5c32b56ea28e4a7a89e9520efc78978d",
      "72fb2ab0c50c4d27bcfdf368252df407",
      "407c593c43404c359f3e25d93d29b84f",
      "daebb32439584877915794c23d5b96f5",
      "8053ba1bc5e248399af5511e0dc4497b",
      "619c706929d043febfa143a1d30f50b8",
      "9a9c9d6ff49949129efab02ebc269f3c",
      "4d60a646767b44a99b8a1ceefa51f6c3",
      "f5118df17d8f455da8230499e31cbf4e",
      "f5b660a968c04c00bb477e333f5dd62b",
      "58f72c99371640b29220ba267fd243ac",
      "3f06e26c76c7482d92170a58cd76df1c",
      "c6fdc8f279a043d791991b5b11871fe0",
      "1c28f147d32040c5a642d8d1e2a4b4f3",
      "805d9781e5694eafbc62e0cb0d5e6ea0",
      "ba555226567644538516b0b17c59607d",
      "f326182a86334721bfcb4e54e61a4ba9"
     ]
    },
    "id": "zTGtm9nur_-g",
    "outputId": "26abc74d-dcab-4f99-e9e7-a2fd0f2ec861"
   },
   "outputs": [
    {
     "data": {
      "application/vnd.jupyter.widget-view+json": {
       "model_id": "dd8ac1dbfdd84d778148e5827936b34c",
       "version_major": 2,
       "version_minor": 0
      },
      "text/plain": [
       "Map:   0%|          | 0/87599 [00:00<?, ? examples/s]"
      ]
     },
     "metadata": {},
     "output_type": "display_data"
    },
    {
     "data": {
      "application/vnd.jupyter.widget-view+json": {
       "model_id": "aa4944df68dc4d85b35eb9764a635586",
       "version_major": 2,
       "version_minor": 0
      },
      "text/plain": [
       "Map:   0%|          | 0/10570 [00:00<?, ? examples/s]"
      ]
     },
     "metadata": {},
     "output_type": "display_data"
    },
    {
     "data": {
      "application/vnd.jupyter.widget-view+json": {
       "model_id": "1a9f10df32494f22978801c1a4e7c5c0",
       "version_major": 2,
       "version_minor": 0
      },
      "text/plain": [
       "Map:   0%|          | 0/87599 [00:00<?, ? examples/s]"
      ]
     },
     "metadata": {},
     "output_type": "display_data"
    },
    {
     "data": {
      "application/vnd.jupyter.widget-view+json": {
       "model_id": "6e0ed107f7064469a399e2a78148d9c5",
       "version_major": 2,
       "version_minor": 0
      },
      "text/plain": [
       "Map:   0%|          | 0/10570 [00:00<?, ? examples/s]"
      ]
     },
     "metadata": {},
     "output_type": "display_data"
    },
    {
     "data": {
      "application/vnd.jupyter.widget-view+json": {
       "model_id": "fac69deec329423c85e0971b8b4b227f",
       "version_major": 2,
       "version_minor": 0
      },
      "text/plain": [
       "Map:   0%|          | 0/87599 [00:00<?, ? examples/s]"
      ]
     },
     "metadata": {},
     "output_type": "display_data"
    },
    {
     "data": {
      "application/vnd.jupyter.widget-view+json": {
       "model_id": "6034f90c8d554a8ab8a5503ca157fbd4",
       "version_major": 2,
       "version_minor": 0
      },
      "text/plain": [
       "Map:   0%|          | 0/10570 [00:00<?, ? examples/s]"
      ]
     },
     "metadata": {},
     "output_type": "display_data"
    },
    {
     "data": {
      "application/vnd.jupyter.widget-view+json": {
       "model_id": "d10f09a1d79a48c9b139ca228587d669",
       "version_major": 2,
       "version_minor": 0
      },
      "text/plain": [
       "Map:   0%|          | 0/87599 [00:00<?, ? examples/s]"
      ]
     },
     "metadata": {},
     "output_type": "display_data"
    },
    {
     "data": {
      "application/vnd.jupyter.widget-view+json": {
       "model_id": "9a9c9d6ff49949129efab02ebc269f3c",
       "version_major": 2,
       "version_minor": 0
      },
      "text/plain": [
       "Map:   0%|          | 0/10570 [00:00<?, ? examples/s]"
      ]
     },
     "metadata": {},
     "output_type": "display_data"
    },
    {
     "data": {
      "text/plain": [
       "[('albert-base-v2', 88638, 10808),\n",
       " ('bert-base-uncased', 88524, 10784),\n",
       " ('distilbert-base-uncased', 88524, 10784),\n",
       " ('roberta-base', 88756, 10790)]"
      ]
     },
     "execution_count": 14,
     "metadata": {},
     "output_type": "execute_result"
    }
   ],
   "source": [
    "train_features = {}\n",
    "validation_features = {}\n",
    "\n",
    "for name, tok in tokenizers.items():\n",
    "    train_features[name] = dataset[\"train\"].map(\n",
    "        make_prepare_train_features(tok),\n",
    "        batched=True,\n",
    "        remove_columns=dataset[\"train\"].column_names\n",
    "    )\n",
    "    validation_features[name] = dataset[\"validation\"].map(\n",
    "        make_prepare_validation_features(tok),\n",
    "        batched=True,\n",
    "        remove_columns=dataset[\"validation\"].column_names\n",
    "    )\n",
    "\n",
    "sorted([(k, len(v), len(validation_features[k])) for k, v in train_features.items()])"
   ]
  },
  {
   "cell_type": "markdown",
   "metadata": {
    "id": "iA96D3xFvqoH"
   },
   "source": [
    "**Quick sanity check**"
   ]
  },
  {
   "cell_type": "code",
   "execution_count": 15,
   "metadata": {
    "colab": {
     "base_uri": "https://localhost:8080/"
    },
    "id": "hzeUX2aIvouU",
    "outputId": "8139c847-cad4-4d24-811d-14bbd701bec5"
   },
   "outputs": [
    {
     "data": {
      "text/plain": [
       "(['input_ids', 'attention_mask', 'start_positions', 'end_positions'],\n",
       " ['input_ids', 'attention_mask', 'offset_mapping', 'example_id'])"
      ]
     },
     "execution_count": 15,
     "metadata": {},
     "output_type": "execute_result"
    }
   ],
   "source": [
    "one_name = MODEL_NAMES[0]\n",
    "example_train = train_features[one_name][0]\n",
    "example_val = validation_features[one_name][0]\n",
    "list(example_train.keys()), list(example_val.keys())"
   ]
  },
  {
   "cell_type": "markdown",
   "metadata": {
    "id": "epLBWjaKoDRn"
   },
   "source": [
    "# **3. Model & Training — DistilBERT**\n"
   ]
  },
  {
   "cell_type": "markdown",
   "metadata": {
    "id": "d9XzVKosoFG2"
   },
   "source": [
    "**Import Libraries**"
   ]
  },
  {
   "cell_type": "code",
   "execution_count": 16,
   "metadata": {
    "id": "9MhJrc07oJ2A"
   },
   "outputs": [],
   "source": [
    "from transformers import AutoModelForQuestionAnswering, TrainingArguments, Trainer, default_data_collator\n",
    "import torch\n",
    "import numpy as np\n",
    "import pandas as pd\n",
    "import evaluate"
   ]
  },
  {
   "cell_type": "markdown",
   "metadata": {
    "id": "jBNucjY9oK_T"
   },
   "source": [
    "**SQuAD metric and small constants**"
   ]
  },
  {
   "cell_type": "code",
   "execution_count": 17,
   "metadata": {
    "colab": {
     "base_uri": "https://localhost:8080/",
     "height": 81,
     "referenced_widgets": [
      "07a55715c62f4c2da4e2ef03ed7685c0",
      "d2bdc2e2f7494f07a29fea0d134bedcd",
      "e6ce2a1ea7df4f15aa88e07e3b3a1074",
      "2da7eb7813f54b1190529ea68c45f78b",
      "e0d4d5405d0a4899a711a6bc299a7191",
      "36291f96665e4f3eb01abf6c87aa5fe1",
      "5d1328097dff44119b69ac30448d5093",
      "e19ab5a343f74a91b2413e447dcc0bf4",
      "3c4cfe4a59b14492b264326ba84a7d57",
      "baf3cbfc26f34269be92bc5a0b8ec790",
      "60138315addd4fadab5044619aa49dc3",
      "6aa48470884343b182461d56954fdb0d",
      "eea9a353f4c149b9a0c9306de0bee99c",
      "5bf421103c4945a89ec608a9be77c167",
      "f77130863daa4a66adb3c1bae66635a0",
      "03f5e255fcb945bfbca6887995c96240",
      "96ad32ba6ebe465b922b5ef3f2da33bd",
      "92474a7b1915475aaf58b4c499147f39",
      "71281db8e924407e88b326d7d0fc3313",
      "bcbe1934e0f147908e6e0702bd42c330",
      "2fe749b7a96743178683b76e4d620e25",
      "f6416af55daf4d198bfade61610ce259"
     ]
    },
    "id": "fCjkTYf9oNGX",
    "outputId": "7842f3f3-7edc-41df-f0b7-8761ec3bee95"
   },
   "outputs": [
    {
     "data": {
      "application/vnd.jupyter.widget-view+json": {
       "model_id": "07a55715c62f4c2da4e2ef03ed7685c0",
       "version_major": 2,
       "version_minor": 0
      },
      "text/plain": [
       "Downloading builder script: 0.00B [00:00, ?B/s]"
      ]
     },
     "metadata": {},
     "output_type": "display_data"
    },
    {
     "data": {
      "application/vnd.jupyter.widget-view+json": {
       "model_id": "6aa48470884343b182461d56954fdb0d",
       "version_major": 2,
       "version_minor": 0
      },
      "text/plain": [
       "Downloading extra modules: 0.00B [00:00, ?B/s]"
      ]
     },
     "metadata": {},
     "output_type": "display_data"
    }
   ],
   "source": [
    "metric = evaluate.load(\"squad\")\n",
    "n_best = 20\n",
    "max_answer_len = 30"
   ]
  },
  {
   "cell_type": "markdown",
   "metadata": {
    "id": "hhKzzQD1oOW3"
   },
   "source": [
    "**Post‑processing to convert logits → text spans**"
   ]
  },
  {
   "cell_type": "code",
   "execution_count": 47,
   "metadata": {
    "id": "XldGeXkkoQWJ"
   },
   "outputs": [],
   "source": [
    "def postprocess_qa_predictions(examples, features, raw_predictions):\n",
    "    # Assume the first two elements of the tuple are start and end logits\n",
    "    if isinstance(raw_predictions, tuple) and len(raw_predictions) >= 2:\n",
    "        start_logits, end_logits = raw_predictions[:2]\n",
    "    else:\n",
    "        # If not a tuple with at least two elements, raise an informative error\n",
    "        raise ValueError(f\"Expected raw_predictions to be a tuple with at least two elements (start_logits, end_logits), but received type {type(raw_predictions)} with length {len(raw_predictions) if hasattr(raw_predictions, '__len__') else 'N/A'}\")\n",
    "\n",
    "    id2idx = {k: i for i, k in enumerate(examples[\"id\"])}\n",
    "    feats_per_ex = {}\n",
    "    for i, f in enumerate(features):\n",
    "        ex_idx = id2idx[f[\"example_id\"]]\n",
    "        feats_per_ex.setdefault(ex_idx, []).append(i)\n",
    "    preds = []\n",
    "    for ex_idx, ex in enumerate(examples):\n",
    "        ctx = ex[\"context\"]\n",
    "        f_idxs = feats_per_ex.get(ex_idx, [])\n",
    "        cand = []\n",
    "        for fi in f_idxs:\n",
    "            s_log = start_logits[fi]\n",
    "            e_log = end_logits[fi]\n",
    "            offsets = features[fi][\"offset_mapping\"]\n",
    "            s_idx = np.argsort(s_log)[-n_best:]\n",
    "            e_idx = np.argsort(e_log)[-n_best:]\n",
    "            for s in s_idx:\n",
    "                for e in e_idx:\n",
    "                    if s >= len(offsets) or e >= len(offsets):\n",
    "                        continue\n",
    "                    # Check if offsets[s] and offsets[e] are not None BEFORE accessing their elements\n",
    "                    if offsets[s] is None or offsets[e] is None:\n",
    "                        continue\n",
    "                    if e < s or (e - s + 1) > max_answer_len:\n",
    "                        continue\n",
    "                    score = float(s_log[s] + e_log[e])\n",
    "                    cand.append((score, offsets[s][0], offsets[e][1]))\n",
    "        if not cand:\n",
    "            preds.append({\"id\": ex[\"id\"], \"prediction_text\": \"\"})\n",
    "        else:\n",
    "            best = max(cand, key=lambda x: x[0])\n",
    "            preds.append({\"id\": ex[\"id\"], \"prediction_text\": ctx[best[1]:best[2]]})\n",
    "    return preds"
   ]
  },
  {
   "cell_type": "markdown",
   "metadata": {
    "id": "0pmdCd-32SgE"
   },
   "source": [
    "**Metric callback factory per model**"
   ]
  },
  {
   "cell_type": "code",
   "execution_count": 19,
   "metadata": {
    "id": "qvkN0goE2Vy1"
   },
   "outputs": [],
   "source": [
    "def make_compute_metrics(model_name):\n",
    "    val_feats = validation_features[model_name]\n",
    "    val_examples = dataset[\"validation\"]\n",
    "    def _fn(eval_pred):\n",
    "        raw = eval_pred if isinstance(eval_pred, tuple) else eval_pred.predictions\n",
    "        preds = postprocess_qa_predictions(val_examples, val_feats, raw)\n",
    "        refs = [{\"id\": ex[\"id\"], \"answers\": ex[\"answers\"]} for ex in val_examples]\n",
    "        return metric.compute(predictions=preds, references=refs)\n",
    "    return _fn"
   ]
  },
  {
   "cell_type": "markdown",
   "metadata": {
    "id": "xVosgCqF2Sjj"
   },
   "source": [
    "**TrainingArguments helper that works on old and new transformers**"
   ]
  },
  {
   "cell_type": "code",
   "execution_count": 20,
   "metadata": {
    "id": "vjQVzKSPz-dA"
   },
   "outputs": [],
   "source": [
    "def make_args(model_name, lr=3e-5, bs=16, epochs=2, fp16=torch.cuda.is_available()):\n",
    "    out = f\"./qa_runs_{model_name.replace('/', '_')}\"\n",
    "    try:\n",
    "        return TrainingArguments(\n",
    "            output_dir=out,\n",
    "            evaluation_strategy=\"epoch\",\n",
    "            save_strategy=\"epoch\",\n",
    "            learning_rate=lr,\n",
    "            per_device_train_batch_size=bs,\n",
    "            per_device_eval_batch_size=bs,\n",
    "            num_train_epochs=epochs,\n",
    "            weight_decay=0.01,\n",
    "            fp16=fp16,\n",
    "            logging_steps=100,\n",
    "            report_to=\"none\",\n",
    "            load_best_model_at_end=True,\n",
    "            metric_for_best_model=\"f1\",\n",
    "            greater_is_better=True\n",
    "        )\n",
    "    except TypeError:\n",
    "        return TrainingArguments(\n",
    "            output_dir=out,\n",
    "            do_train=True,\n",
    "            do_eval=True,\n",
    "            learning_rate=lr,\n",
    "            per_device_train_batch_size=bs,\n",
    "            per_device_eval_batch_size=bs,\n",
    "            num_train_epochs=epochs,\n",
    "            weight_decay=0.01,\n",
    "            fp16=fp16,\n",
    "            logging_steps=100,\n",
    "            report_to=\"none\",\n",
    "            save_total_limit=2,\n",
    "            save_steps=1000,\n",
    "            eval_steps=1000\n",
    "        )"
   ]
  },
  {
   "cell_type": "markdown",
   "metadata": {
    "id": "NyLNLhRz0CDO"
   },
   "source": [
    "**Build trainer**"
   ]
  },
  {
   "cell_type": "code",
   "execution_count": 21,
   "metadata": {
    "collapsed": true,
    "id": "VwX1peFl0AV7"
   },
   "outputs": [],
   "source": [
    "def build_trainer(name, model, args):\n",
    "    try:\n",
    "        return Trainer(\n",
    "            model=model,\n",
    "            args=args,\n",
    "            train_dataset=train_features[name],\n",
    "            eval_dataset=validation_features[name],\n",
    "            processing_class=tokenizers[name],\n",
    "            data_collator=default_data_collator,\n",
    "            compute_metrics=make_compute_metrics(name)\n",
    "        )\n",
    "    except TypeError:\n",
    "        return Trainer(\n",
    "            model=model,\n",
    "            args=args,\n",
    "            train_dataset=train_features[name],\n",
    "            eval_dataset=validation_features[name],\n",
    "            tokenizer=tokenizers[name],\n",
    "            data_collator=default_data_collator,\n",
    "            compute_metrics=make_compute_metrics(name)\n",
    "        )"
   ]
  },
  {
   "cell_type": "code",
   "execution_count": 22,
   "metadata": {
    "colab": {
     "base_uri": "https://localhost:8080/",
     "height": 1000,
     "referenced_widgets": [
      "001ac82484e14a8bb78ed861fa6cffca",
      "da71dcea46734f5f84a49b406c0884ae",
      "f96c8f4ee586432bbcc596bb6b5a77f6",
      "c19b5cfb02b943b8b3f9c96698b5acac",
      "cbdf4edd4c73453394f292d9ac1b9177",
      "364e4c580cdb4ace824af75e2b52db05",
      "0c1a1b69d5074fe4a75c74db8c6e22a5",
      "7fa53536bae64d538c7ccc2d15dba456",
      "4a4d4dccea614ffaae1455ee855d6627",
      "16d472fc363e41789c14fc0e3fa34f2c",
      "a9bd5f23b2cf4641b6365dcb7c31c8cd"
     ]
    },
    "collapsed": true,
    "id": "ya4aQSYzPKtz",
    "outputId": "870c9064-cf7d-4bde-b1c1-637b0fd3b679"
   },
   "outputs": [
    {
     "name": "stdout",
     "output_type": "stream",
     "text": [
      "=== Training distilbert-base-uncased ===\n"
     ]
    },
    {
     "data": {
      "application/vnd.jupyter.widget-view+json": {
       "model_id": "001ac82484e14a8bb78ed861fa6cffca",
       "version_major": 2,
       "version_minor": 0
      },
      "text/plain": [
       "model.safetensors:   0%|          | 0.00/268M [00:00<?, ?B/s]"
      ]
     },
     "metadata": {},
     "output_type": "display_data"
    },
    {
     "name": "stderr",
     "output_type": "stream",
     "text": [
      "Some weights of DistilBertForQuestionAnswering were not initialized from the model checkpoint at distilbert-base-uncased and are newly initialized: ['qa_outputs.bias', 'qa_outputs.weight']\n",
      "You should probably TRAIN this model on a down-stream task to be able to use it for predictions and inference.\n"
     ]
    },
    {
     "data": {
      "text/html": [
       "\n",
       "    <div>\n",
       "      \n",
       "      <progress value='11066' max='11066' style='width:300px; height:20px; vertical-align: middle;'></progress>\n",
       "      [11066/11066 31:49, Epoch 2/2]\n",
       "    </div>\n",
       "    <table border=\"1\" class=\"dataframe\">\n",
       "  <thead>\n",
       " <tr style=\"text-align: left;\">\n",
       "      <th>Step</th>\n",
       "      <th>Training Loss</th>\n",
       "    </tr>\n",
       "  </thead>\n",
       "  <tbody>\n",
       "    <tr>\n",
       "      <td>100</td>\n",
       "      <td>4.254000</td>\n",
       "    </tr>\n",
       "    <tr>\n",
       "      <td>200</td>\n",
       "      <td>3.122300</td>\n",
       "    </tr>\n",
       "    <tr>\n",
       "      <td>300</td>\n",
       "      <td>2.561100</td>\n",
       "    </tr>\n",
       "    <tr>\n",
       "      <td>400</td>\n",
       "      <td>2.189600</td>\n",
       "    </tr>\n",
       "    <tr>\n",
       "      <td>500</td>\n",
       "      <td>2.013000</td>\n",
       "    </tr>\n",
       "    <tr>\n",
       "      <td>600</td>\n",
       "      <td>1.850400</td>\n",
       "    </tr>\n",
       "    <tr>\n",
       "      <td>700</td>\n",
       "      <td>1.753500</td>\n",
       "    </tr>\n",
       "    <tr>\n",
       "      <td>800</td>\n",
       "      <td>1.756000</td>\n",
       "    </tr>\n",
       "    <tr>\n",
       "      <td>900</td>\n",
       "      <td>1.633100</td>\n",
       "    </tr>\n",
       "    <tr>\n",
       "      <td>1000</td>\n",
       "      <td>1.565800</td>\n",
       "    </tr>\n",
       "    <tr>\n",
       "      <td>1100</td>\n",
       "      <td>1.584400</td>\n",
       "    </tr>\n",
       "    <tr>\n",
       "      <td>1200</td>\n",
       "      <td>1.578700</td>\n",
       "    </tr>\n",
       "    <tr>\n",
       "      <td>1300</td>\n",
       "      <td>1.573900</td>\n",
       "    </tr>\n",
       "    <tr>\n",
       "      <td>1400</td>\n",
       "      <td>1.496000</td>\n",
       "    </tr>\n",
       "    <tr>\n",
       "      <td>1500</td>\n",
       "      <td>1.508000</td>\n",
       "    </tr>\n",
       "    <tr>\n",
       "      <td>1600</td>\n",
       "      <td>1.481800</td>\n",
       "    </tr>\n",
       "    <tr>\n",
       "      <td>1700</td>\n",
       "      <td>1.499800</td>\n",
       "    </tr>\n",
       "    <tr>\n",
       "      <td>1800</td>\n",
       "      <td>1.519300</td>\n",
       "    </tr>\n",
       "    <tr>\n",
       "      <td>1900</td>\n",
       "      <td>1.419600</td>\n",
       "    </tr>\n",
       "    <tr>\n",
       "      <td>2000</td>\n",
       "      <td>1.380100</td>\n",
       "    </tr>\n",
       "    <tr>\n",
       "      <td>2100</td>\n",
       "      <td>1.445100</td>\n",
       "    </tr>\n",
       "    <tr>\n",
       "      <td>2200</td>\n",
       "      <td>1.402900</td>\n",
       "    </tr>\n",
       "    <tr>\n",
       "      <td>2300</td>\n",
       "      <td>1.420800</td>\n",
       "    </tr>\n",
       "    <tr>\n",
       "      <td>2400</td>\n",
       "      <td>1.376100</td>\n",
       "    </tr>\n",
       "    <tr>\n",
       "      <td>2500</td>\n",
       "      <td>1.409300</td>\n",
       "    </tr>\n",
       "    <tr>\n",
       "      <td>2600</td>\n",
       "      <td>1.280400</td>\n",
       "    </tr>\n",
       "    <tr>\n",
       "      <td>2700</td>\n",
       "      <td>1.240900</td>\n",
       "    </tr>\n",
       "    <tr>\n",
       "      <td>2800</td>\n",
       "      <td>1.316300</td>\n",
       "    </tr>\n",
       "    <tr>\n",
       "      <td>2900</td>\n",
       "      <td>1.269200</td>\n",
       "    </tr>\n",
       "    <tr>\n",
       "      <td>3000</td>\n",
       "      <td>1.338000</td>\n",
       "    </tr>\n",
       "    <tr>\n",
       "      <td>3100</td>\n",
       "      <td>1.305200</td>\n",
       "    </tr>\n",
       "    <tr>\n",
       "      <td>3200</td>\n",
       "      <td>1.305900</td>\n",
       "    </tr>\n",
       "    <tr>\n",
       "      <td>3300</td>\n",
       "      <td>1.226300</td>\n",
       "    </tr>\n",
       "    <tr>\n",
       "      <td>3400</td>\n",
       "      <td>1.268600</td>\n",
       "    </tr>\n",
       "    <tr>\n",
       "      <td>3500</td>\n",
       "      <td>1.298800</td>\n",
       "    </tr>\n",
       "    <tr>\n",
       "      <td>3600</td>\n",
       "      <td>1.332500</td>\n",
       "    </tr>\n",
       "    <tr>\n",
       "      <td>3700</td>\n",
       "      <td>1.247400</td>\n",
       "    </tr>\n",
       "    <tr>\n",
       "      <td>3800</td>\n",
       "      <td>1.314600</td>\n",
       "    </tr>\n",
       "    <tr>\n",
       "      <td>3900</td>\n",
       "      <td>1.205000</td>\n",
       "    </tr>\n",
       "    <tr>\n",
       "      <td>4000</td>\n",
       "      <td>1.224600</td>\n",
       "    </tr>\n",
       "    <tr>\n",
       "      <td>4100</td>\n",
       "      <td>1.235600</td>\n",
       "    </tr>\n",
       "    <tr>\n",
       "      <td>4200</td>\n",
       "      <td>1.223200</td>\n",
       "    </tr>\n",
       "    <tr>\n",
       "      <td>4300</td>\n",
       "      <td>1.209100</td>\n",
       "    </tr>\n",
       "    <tr>\n",
       "      <td>4400</td>\n",
       "      <td>1.120600</td>\n",
       "    </tr>\n",
       "    <tr>\n",
       "      <td>4500</td>\n",
       "      <td>1.187700</td>\n",
       "    </tr>\n",
       "    <tr>\n",
       "      <td>4600</td>\n",
       "      <td>1.202500</td>\n",
       "    </tr>\n",
       "    <tr>\n",
       "      <td>4700</td>\n",
       "      <td>1.202900</td>\n",
       "    </tr>\n",
       "    <tr>\n",
       "      <td>4800</td>\n",
       "      <td>1.125200</td>\n",
       "    </tr>\n",
       "    <tr>\n",
       "      <td>4900</td>\n",
       "      <td>1.230400</td>\n",
       "    </tr>\n",
       "    <tr>\n",
       "      <td>5000</td>\n",
       "      <td>1.210200</td>\n",
       "    </tr>\n",
       "    <tr>\n",
       "      <td>5100</td>\n",
       "      <td>1.233200</td>\n",
       "    </tr>\n",
       "    <tr>\n",
       "      <td>5200</td>\n",
       "      <td>1.189600</td>\n",
       "    </tr>\n",
       "    <tr>\n",
       "      <td>5300</td>\n",
       "      <td>1.192100</td>\n",
       "    </tr>\n",
       "    <tr>\n",
       "      <td>5400</td>\n",
       "      <td>1.136600</td>\n",
       "    </tr>\n",
       "    <tr>\n",
       "      <td>5500</td>\n",
       "      <td>1.068500</td>\n",
       "    </tr>\n",
       "    <tr>\n",
       "      <td>5600</td>\n",
       "      <td>1.005300</td>\n",
       "    </tr>\n",
       "    <tr>\n",
       "      <td>5700</td>\n",
       "      <td>0.948200</td>\n",
       "    </tr>\n",
       "    <tr>\n",
       "      <td>5800</td>\n",
       "      <td>0.897100</td>\n",
       "    </tr>\n",
       "    <tr>\n",
       "      <td>5900</td>\n",
       "      <td>0.889200</td>\n",
       "    </tr>\n",
       "    <tr>\n",
       "      <td>6000</td>\n",
       "      <td>0.891400</td>\n",
       "    </tr>\n",
       "    <tr>\n",
       "      <td>6100</td>\n",
       "      <td>0.917400</td>\n",
       "    </tr>\n",
       "    <tr>\n",
       "      <td>6200</td>\n",
       "      <td>0.932100</td>\n",
       "    </tr>\n",
       "    <tr>\n",
       "      <td>6300</td>\n",
       "      <td>0.855800</td>\n",
       "    </tr>\n",
       "    <tr>\n",
       "      <td>6400</td>\n",
       "      <td>0.851900</td>\n",
       "    </tr>\n",
       "    <tr>\n",
       "      <td>6500</td>\n",
       "      <td>0.933600</td>\n",
       "    </tr>\n",
       "    <tr>\n",
       "      <td>6600</td>\n",
       "      <td>0.905500</td>\n",
       "    </tr>\n",
       "    <tr>\n",
       "      <td>6700</td>\n",
       "      <td>0.839200</td>\n",
       "    </tr>\n",
       "    <tr>\n",
       "      <td>6800</td>\n",
       "      <td>0.864800</td>\n",
       "    </tr>\n",
       "    <tr>\n",
       "      <td>6900</td>\n",
       "      <td>0.864700</td>\n",
       "    </tr>\n",
       "    <tr>\n",
       "      <td>7000</td>\n",
       "      <td>0.889800</td>\n",
       "    </tr>\n",
       "    <tr>\n",
       "      <td>7100</td>\n",
       "      <td>0.935100</td>\n",
       "    </tr>\n",
       "    <tr>\n",
       "      <td>7200</td>\n",
       "      <td>0.923300</td>\n",
       "    </tr>\n",
       "    <tr>\n",
       "      <td>7300</td>\n",
       "      <td>0.904200</td>\n",
       "    </tr>\n",
       "    <tr>\n",
       "      <td>7400</td>\n",
       "      <td>0.962800</td>\n",
       "    </tr>\n",
       "    <tr>\n",
       "      <td>7500</td>\n",
       "      <td>0.844800</td>\n",
       "    </tr>\n",
       "    <tr>\n",
       "      <td>7600</td>\n",
       "      <td>0.887500</td>\n",
       "    </tr>\n",
       "    <tr>\n",
       "      <td>7700</td>\n",
       "      <td>0.968100</td>\n",
       "    </tr>\n",
       "    <tr>\n",
       "      <td>7800</td>\n",
       "      <td>0.893700</td>\n",
       "    </tr>\n",
       "    <tr>\n",
       "      <td>7900</td>\n",
       "      <td>0.888100</td>\n",
       "    </tr>\n",
       "    <tr>\n",
       "      <td>8000</td>\n",
       "      <td>0.880500</td>\n",
       "    </tr>\n",
       "    <tr>\n",
       "      <td>8100</td>\n",
       "      <td>0.905200</td>\n",
       "    </tr>\n",
       "    <tr>\n",
       "      <td>8200</td>\n",
       "      <td>0.899000</td>\n",
       "    </tr>\n",
       "    <tr>\n",
       "      <td>8300</td>\n",
       "      <td>0.904700</td>\n",
       "    </tr>\n",
       "    <tr>\n",
       "      <td>8400</td>\n",
       "      <td>0.909300</td>\n",
       "    </tr>\n",
       "    <tr>\n",
       "      <td>8500</td>\n",
       "      <td>0.868500</td>\n",
       "    </tr>\n",
       "    <tr>\n",
       "      <td>8600</td>\n",
       "      <td>0.871500</td>\n",
       "    </tr>\n",
       "    <tr>\n",
       "      <td>8700</td>\n",
       "      <td>0.814300</td>\n",
       "    </tr>\n",
       "    <tr>\n",
       "      <td>8800</td>\n",
       "      <td>0.929100</td>\n",
       "    </tr>\n",
       "    <tr>\n",
       "      <td>8900</td>\n",
       "      <td>0.920100</td>\n",
       "    </tr>\n",
       "    <tr>\n",
       "      <td>9000</td>\n",
       "      <td>0.868700</td>\n",
       "    </tr>\n",
       "    <tr>\n",
       "      <td>9100</td>\n",
       "      <td>0.897100</td>\n",
       "    </tr>\n",
       "    <tr>\n",
       "      <td>9200</td>\n",
       "      <td>0.883600</td>\n",
       "    </tr>\n",
       "    <tr>\n",
       "      <td>9300</td>\n",
       "      <td>0.915800</td>\n",
       "    </tr>\n",
       "    <tr>\n",
       "      <td>9400</td>\n",
       "      <td>0.883800</td>\n",
       "    </tr>\n",
       "    <tr>\n",
       "      <td>9500</td>\n",
       "      <td>0.842400</td>\n",
       "    </tr>\n",
       "    <tr>\n",
       "      <td>9600</td>\n",
       "      <td>0.897000</td>\n",
       "    </tr>\n",
       "    <tr>\n",
       "      <td>9700</td>\n",
       "      <td>0.888000</td>\n",
       "    </tr>\n",
       "    <tr>\n",
       "      <td>9800</td>\n",
       "      <td>0.870900</td>\n",
       "    </tr>\n",
       "    <tr>\n",
       "      <td>9900</td>\n",
       "      <td>0.845100</td>\n",
       "    </tr>\n",
       "    <tr>\n",
       "      <td>10000</td>\n",
       "      <td>0.874000</td>\n",
       "    </tr>\n",
       "    <tr>\n",
       "      <td>10100</td>\n",
       "      <td>0.854900</td>\n",
       "    </tr>\n",
       "    <tr>\n",
       "      <td>10200</td>\n",
       "      <td>0.881000</td>\n",
       "    </tr>\n",
       "    <tr>\n",
       "      <td>10300</td>\n",
       "      <td>0.908900</td>\n",
       "    </tr>\n",
       "    <tr>\n",
       "      <td>10400</td>\n",
       "      <td>0.829600</td>\n",
       "    </tr>\n",
       "    <tr>\n",
       "      <td>10500</td>\n",
       "      <td>0.863900</td>\n",
       "    </tr>\n",
       "    <tr>\n",
       "      <td>10600</td>\n",
       "      <td>0.864700</td>\n",
       "    </tr>\n",
       "    <tr>\n",
       "      <td>10700</td>\n",
       "      <td>0.859300</td>\n",
       "    </tr>\n",
       "    <tr>\n",
       "      <td>10800</td>\n",
       "      <td>0.801900</td>\n",
       "    </tr>\n",
       "    <tr>\n",
       "      <td>10900</td>\n",
       "      <td>0.867200</td>\n",
       "    </tr>\n",
       "    <tr>\n",
       "      <td>11000</td>\n",
       "      <td>0.886300</td>\n",
       "    </tr>\n",
       "  </tbody>\n",
       "</table><p>"
      ],
      "text/plain": [
       "<IPython.core.display.HTML object>"
      ]
     },
     "metadata": {},
     "output_type": "display_data"
    },
    {
     "data": {
      "text/html": [
       "\n",
       "    <div>\n",
       "      \n",
       "      <progress value='674' max='674' style='width:300px; height:20px; vertical-align: middle;'></progress>\n",
       "      [674/674 00:30]\n",
       "    </div>\n",
       "    "
      ],
      "text/plain": [
       "<IPython.core.display.HTML object>"
      ]
     },
     "metadata": {},
     "output_type": "display_data"
    }
   ],
   "source": [
    "name = \"distilbert-base-uncased\"\n",
    "print(f\"=== Training {name} ===\")\n",
    "model = AutoModelForQuestionAnswering.from_pretrained(name)\n",
    "args = make_args(name)\n",
    "trainer = build_trainer(name, model, args)\n",
    "trainer.train()\n",
    "metrics = trainer.evaluate()"
   ]
  },
  {
   "cell_type": "code",
   "execution_count": 23,
   "metadata": {
    "colab": {
     "base_uri": "https://localhost:8080/"
    },
    "id": "tMXKQXL4PNu3",
    "outputId": "0c61037e-c1ee-4e3d-eca2-1cfd98628f4e"
   },
   "outputs": [
    {
     "data": {
      "text/plain": [
       "('./qa_model_distilbert-base-uncased/tokenizer_config.json',\n",
       " './qa_model_distilbert-base-uncased/special_tokens_map.json',\n",
       " './qa_model_distilbert-base-uncased/vocab.txt',\n",
       " './qa_model_distilbert-base-uncased/added_tokens.json',\n",
       " './qa_model_distilbert-base-uncased/tokenizer.json')"
      ]
     },
     "execution_count": 23,
     "metadata": {},
     "output_type": "execute_result"
    }
   ],
   "source": [
    "save_dir = f\"./qa_model_{name.replace('/', '_')}\"\n",
    "trainer.save_model(save_dir)\n",
    "tokenizers[name].save_pretrained(save_dir)"
   ]
  },
  {
   "cell_type": "code",
   "execution_count": 24,
   "metadata": {
    "colab": {
     "base_uri": "https://localhost:8080/",
     "height": 135
    },
    "id": "C_Qwty7_PPjJ",
    "outputId": "8c862d04-2b8f-42c1-9938-6316ea623cb2"
   },
   "outputs": [
    {
     "data": {
      "application/vnd.google.colaboratory.intrinsic+json": {
       "summary": "{\n  \"name\": \"df_results\",\n  \"rows\": 1,\n  \"fields\": [\n    {\n      \"column\": \"model\",\n      \"properties\": {\n        \"dtype\": \"string\",\n        \"num_unique_values\": 1,\n        \"samples\": [\n          \"distilbert-base-uncased\"\n        ],\n        \"semantic_type\": \"\",\n        \"description\": \"\"\n      }\n    },\n    {\n      \"column\": \"eval_runtime\",\n      \"properties\": {\n        \"dtype\": \"number\",\n        \"std\": null,\n        \"min\": 30.9438,\n        \"max\": 30.9438,\n        \"num_unique_values\": 1,\n        \"samples\": [\n          30.9438\n        ],\n        \"semantic_type\": \"\",\n        \"description\": \"\"\n      }\n    },\n    {\n      \"column\": \"eval_samples_per_second\",\n      \"properties\": {\n        \"dtype\": \"number\",\n        \"std\": null,\n        \"min\": 348.503,\n        \"max\": 348.503,\n        \"num_unique_values\": 1,\n        \"samples\": [\n          348.503\n        ],\n        \"semantic_type\": \"\",\n        \"description\": \"\"\n      }\n    },\n    {\n      \"column\": \"eval_steps_per_second\",\n      \"properties\": {\n        \"dtype\": \"number\",\n        \"std\": null,\n        \"min\": 21.781,\n        \"max\": 21.781,\n        \"num_unique_values\": 1,\n        \"samples\": [\n          21.781\n        ],\n        \"semantic_type\": \"\",\n        \"description\": \"\"\n      }\n    },\n    {\n      \"column\": \"epoch\",\n      \"properties\": {\n        \"dtype\": \"number\",\n        \"std\": null,\n        \"min\": 2.0,\n        \"max\": 2.0,\n        \"num_unique_values\": 1,\n        \"samples\": [\n          2.0\n        ],\n        \"semantic_type\": \"\",\n        \"description\": \"\"\n      }\n    }\n  ]\n}",
       "type": "dataframe",
       "variable_name": "df_results"
      },
      "text/html": [
       "\n",
       "  <div id=\"df-b0f7d0c5-39de-401d-b3c6-c794c0335da1\" class=\"colab-df-container\">\n",
       "    <div>\n",
       "<style scoped>\n",
       "    .dataframe tbody tr th:only-of-type {\n",
       "        vertical-align: middle;\n",
       "    }\n",
       "\n",
       "    .dataframe tbody tr th {\n",
       "        vertical-align: top;\n",
       "    }\n",
       "\n",
       "    .dataframe thead th {\n",
       "        text-align: right;\n",
       "    }\n",
       "</style>\n",
       "<table border=\"1\" class=\"dataframe\">\n",
       "  <thead>\n",
       "    <tr style=\"text-align: right;\">\n",
       "      <th></th>\n",
       "      <th>model</th>\n",
       "      <th>eval_runtime</th>\n",
       "      <th>eval_samples_per_second</th>\n",
       "      <th>eval_steps_per_second</th>\n",
       "      <th>epoch</th>\n",
       "    </tr>\n",
       "  </thead>\n",
       "  <tbody>\n",
       "    <tr>\n",
       "      <th>0</th>\n",
       "      <td>distilbert-base-uncased</td>\n",
       "      <td>30.9438</td>\n",
       "      <td>348.503</td>\n",
       "      <td>21.781</td>\n",
       "      <td>2.0</td>\n",
       "    </tr>\n",
       "  </tbody>\n",
       "</table>\n",
       "</div>\n",
       "    <div class=\"colab-df-buttons\">\n",
       "\n",
       "  <div class=\"colab-df-container\">\n",
       "    <button class=\"colab-df-convert\" onclick=\"convertToInteractive('df-b0f7d0c5-39de-401d-b3c6-c794c0335da1')\"\n",
       "            title=\"Convert this dataframe to an interactive table.\"\n",
       "            style=\"display:none;\">\n",
       "\n",
       "  <svg xmlns=\"http://www.w3.org/2000/svg\" height=\"24px\" viewBox=\"0 -960 960 960\">\n",
       "    <path d=\"M120-120v-720h720v720H120Zm60-500h600v-160H180v160Zm220 220h160v-160H400v160Zm0 220h160v-160H400v160ZM180-400h160v-160H180v160Zm440 0h160v-160H620v160ZM180-180h160v-160H180v160Zm440 0h160v-160H620v160Z\"/>\n",
       "  </svg>\n",
       "    </button>\n",
       "\n",
       "  <style>\n",
       "    .colab-df-container {\n",
       "      display:flex;\n",
       "      gap: 12px;\n",
       "    }\n",
       "\n",
       "    .colab-df-convert {\n",
       "      background-color: #E8F0FE;\n",
       "      border: none;\n",
       "      border-radius: 50%;\n",
       "      cursor: pointer;\n",
       "      display: none;\n",
       "      fill: #1967D2;\n",
       "      height: 32px;\n",
       "      padding: 0 0 0 0;\n",
       "      width: 32px;\n",
       "    }\n",
       "\n",
       "    .colab-df-convert:hover {\n",
       "      background-color: #E2EBFA;\n",
       "      box-shadow: 0px 1px 2px rgba(60, 64, 67, 0.3), 0px 1px 3px 1px rgba(60, 64, 67, 0.15);\n",
       "      fill: #174EA6;\n",
       "    }\n",
       "\n",
       "    .colab-df-buttons div {\n",
       "      margin-bottom: 4px;\n",
       "    }\n",
       "\n",
       "    [theme=dark] .colab-df-convert {\n",
       "      background-color: #3B4455;\n",
       "      fill: #D2E3FC;\n",
       "    }\n",
       "\n",
       "    [theme=dark] .colab-df-convert:hover {\n",
       "      background-color: #434B5C;\n",
       "      box-shadow: 0px 1px 3px 1px rgba(0, 0, 0, 0.15);\n",
       "      filter: drop-shadow(0px 1px 2px rgba(0, 0, 0, 0.3));\n",
       "      fill: #FFFFFF;\n",
       "    }\n",
       "  </style>\n",
       "\n",
       "    <script>\n",
       "      const buttonEl =\n",
       "        document.querySelector('#df-b0f7d0c5-39de-401d-b3c6-c794c0335da1 button.colab-df-convert');\n",
       "      buttonEl.style.display =\n",
       "        google.colab.kernel.accessAllowed ? 'block' : 'none';\n",
       "\n",
       "      async function convertToInteractive(key) {\n",
       "        const element = document.querySelector('#df-b0f7d0c5-39de-401d-b3c6-c794c0335da1');\n",
       "        const dataTable =\n",
       "          await google.colab.kernel.invokeFunction('convertToInteractive',\n",
       "                                                    [key], {});\n",
       "        if (!dataTable) return;\n",
       "\n",
       "        const docLinkHtml = 'Like what you see? Visit the ' +\n",
       "          '<a target=\"_blank\" href=https://colab.research.google.com/notebooks/data_table.ipynb>data table notebook</a>'\n",
       "          + ' to learn more about interactive tables.';\n",
       "        element.innerHTML = '';\n",
       "        dataTable['output_type'] = 'display_data';\n",
       "        await google.colab.output.renderOutput(dataTable, element);\n",
       "        const docLink = document.createElement('div');\n",
       "        docLink.innerHTML = docLinkHtml;\n",
       "        element.appendChild(docLink);\n",
       "      }\n",
       "    </script>\n",
       "  </div>\n",
       "\n",
       "\n",
       "  <div id=\"id_b17eb588-56e1-4e98-8aa4-707e4892946b\">\n",
       "    <style>\n",
       "      .colab-df-generate {\n",
       "        background-color: #E8F0FE;\n",
       "        border: none;\n",
       "        border-radius: 50%;\n",
       "        cursor: pointer;\n",
       "        display: none;\n",
       "        fill: #1967D2;\n",
       "        height: 32px;\n",
       "        padding: 0 0 0 0;\n",
       "        width: 32px;\n",
       "      }\n",
       "\n",
       "      .colab-df-generate:hover {\n",
       "        background-color: #E2EBFA;\n",
       "        box-shadow: 0px 1px 2px rgba(60, 64, 67, 0.3), 0px 1px 3px 1px rgba(60, 64, 67, 0.15);\n",
       "        fill: #174EA6;\n",
       "      }\n",
       "\n",
       "      [theme=dark] .colab-df-generate {\n",
       "        background-color: #3B4455;\n",
       "        fill: #D2E3FC;\n",
       "      }\n",
       "\n",
       "      [theme=dark] .colab-df-generate:hover {\n",
       "        background-color: #434B5C;\n",
       "        box-shadow: 0px 1px 3px 1px rgba(0, 0, 0, 0.15);\n",
       "        filter: drop-shadow(0px 1px 2px rgba(0, 0, 0, 0.3));\n",
       "        fill: #FFFFFF;\n",
       "      }\n",
       "    </style>\n",
       "    <button class=\"colab-df-generate\" onclick=\"generateWithVariable('df_results')\"\n",
       "            title=\"Generate code using this dataframe.\"\n",
       "            style=\"display:none;\">\n",
       "\n",
       "  <svg xmlns=\"http://www.w3.org/2000/svg\" height=\"24px\"viewBox=\"0 0 24 24\"\n",
       "       width=\"24px\">\n",
       "    <path d=\"M7,19H8.4L18.45,9,17,7.55,7,17.6ZM5,21V16.75L18.45,3.32a2,2,0,0,1,2.83,0l1.4,1.43a1.91,1.91,0,0,1,.58,1.4,1.91,1.91,0,0,1-.58,1.4L9.25,21ZM18.45,9,17,7.55Zm-12,3A5.31,5.31,0,0,0,4.9,8.1,5.31,5.31,0,0,0,1,6.5,5.31,5.31,0,0,0,4.9,4.9,5.31,5.31,0,0,0,6.5,1,5.31,5.31,0,0,0,8.1,4.9,5.31,5.31,0,0,0,12,6.5,5.46,5.46,0,0,0,6.5,12Z\"/>\n",
       "  </svg>\n",
       "    </button>\n",
       "    <script>\n",
       "      (() => {\n",
       "      const buttonEl =\n",
       "        document.querySelector('#id_b17eb588-56e1-4e98-8aa4-707e4892946b button.colab-df-generate');\n",
       "      buttonEl.style.display =\n",
       "        google.colab.kernel.accessAllowed ? 'block' : 'none';\n",
       "\n",
       "      buttonEl.onclick = () => {\n",
       "        google.colab.notebook.generateWithVariable('df_results');\n",
       "      }\n",
       "      })();\n",
       "    </script>\n",
       "  </div>\n",
       "\n",
       "    </div>\n",
       "  </div>\n"
      ],
      "text/plain": [
       "                     model  eval_runtime  eval_samples_per_second  \\\n",
       "0  distilbert-base-uncased       30.9438                  348.503   \n",
       "\n",
       "   eval_steps_per_second  epoch  \n",
       "0                 21.781    2.0  "
      ]
     },
     "execution_count": 24,
     "metadata": {},
     "output_type": "execute_result"
    }
   ],
   "source": [
    "df_results = pd.DataFrame([{\"model\": name, **{k: float(v) for k, v in metrics.items()}}])\n",
    "df_results"
   ]
  },
  {
   "cell_type": "markdown",
   "metadata": {
    "id": "T47hPr4hoX-n"
   },
   "source": [
    "# **4. Inference & Quick Sanity Check**"
   ]
  },
  {
   "cell_type": "markdown",
   "metadata": {
    "id": "7ROOEauEoZc5"
   },
   "source": [
    "**Load the fine‑tuned checkpoint for this model**"
   ]
  },
  {
   "cell_type": "code",
   "execution_count": 25,
   "metadata": {
    "id": "YIuOZE8docM2"
   },
   "outputs": [],
   "source": [
    "from transformers import pipeline\n",
    "\n",
    "MODEL_NAME = \"distilbert-base-uncased\"\n",
    "CKPT_DIR   = f\"./qa_model_{MODEL_NAME.replace('/', '_')}\"\n",
    "tokenizer  = AutoTokenizer.from_pretrained(CKPT_DIR, use_fast=True)\n",
    "model      = AutoModelForQuestionAnswering.from_pretrained(CKPT_DIR)"
   ]
  },
  {
   "cell_type": "markdown",
   "metadata": {
    "id": "7RV_k_rNodZH"
   },
   "source": [
    "**Build the QA pipeline**"
   ]
  },
  {
   "cell_type": "code",
   "execution_count": 26,
   "metadata": {
    "colab": {
     "base_uri": "https://localhost:8080/"
    },
    "id": "cJiX2ZFIoe8x",
    "outputId": "aa8def35-c34a-4d92-e08e-0fa49f204f6c"
   },
   "outputs": [
    {
     "name": "stderr",
     "output_type": "stream",
     "text": [
      "Device set to use cuda:0\n"
     ]
    }
   ],
   "source": [
    "qa_pipeline = pipeline(\n",
    "    \"question-answering\",\n",
    "    model=model,\n",
    "    tokenizer=tokenizer,\n",
    "    device=0 if torch.cuda.is_available() else -1\n",
    ")"
   ]
  },
  {
   "cell_type": "markdown",
   "metadata": {
    "id": "rrZTOcsIogS4"
   },
   "source": [
    "**Example context and question**"
   ]
  },
  {
   "cell_type": "code",
   "execution_count": 27,
   "metadata": {
    "colab": {
     "base_uri": "https://localhost:8080/"
    },
    "id": "dzixtPfsohqF",
    "outputId": "194a7e56-6667-433d-e70c-c3377607033e"
   },
   "outputs": [
    {
     "name": "stdout",
     "output_type": "stream",
     "text": [
      "Question: Which river is the longest in the world?\n",
      "Answer: The Nile River\n",
      "Score: 0.6842\n"
     ]
    }
   ],
   "source": [
    "context = \"\"\"\n",
    "The Nile River is the longest river in the world, flowing northward through\n",
    "eastern Africa into the Mediterranean Sea. It has historically been of great\n",
    "importance to Egyptian civilization.\n",
    "\"\"\"\n",
    "\n",
    "question = \"Which river is the longest in the world?\"\n",
    "\n",
    "# Run inference\n",
    "result = qa_pipeline(question=question, context=context)\n",
    "print(\"Question:\", question)\n",
    "print(\"Answer:\", result[\"answer\"])\n",
    "print(\"Score:\", round(result[\"score\"], 4))"
   ]
  },
  {
   "cell_type": "markdown",
   "metadata": {
    "id": "qZx-IO8dor7I"
   },
   "source": [
    "# **5. Export (checkpoint)**"
   ]
  },
  {
   "cell_type": "markdown",
   "metadata": {
    "id": "n2fgUiN9os3i"
   },
   "source": [
    "**Set paths for this model**"
   ]
  },
  {
   "cell_type": "code",
   "execution_count": 28,
   "metadata": {
    "colab": {
     "base_uri": "https://localhost:8080/",
     "height": 35
    },
    "id": "yKYJeWZDot_t",
    "outputId": "80c4f48e-1aa4-4605-8b8c-825676a04468"
   },
   "outputs": [
    {
     "data": {
      "application/vnd.google.colaboratory.intrinsic+json": {
       "type": "string"
      },
      "text/plain": [
       "'./qa_model_distilbert-base-uncased'"
      ]
     },
     "execution_count": 28,
     "metadata": {},
     "output_type": "execute_result"
    }
   ],
   "source": [
    "import os, json, pathlib\n",
    "\n",
    "MODEL_NAME = \"distilbert-base-uncased\"\n",
    "CKPT_DIR   = f\"./qa_model_{MODEL_NAME.replace('/', '_')}\"\n",
    "pathlib.Path(CKPT_DIR).mkdir(parents=True, exist_ok=True)\n",
    "CKPT_DIR"
   ]
  },
  {
   "cell_type": "markdown",
   "metadata": {
    "id": "tCiBbzvZovVr"
   },
   "source": [
    "**Save final checkpoint (model + tokenizer + a mini card)**"
   ]
  },
  {
   "cell_type": "code",
   "execution_count": 29,
   "metadata": {
    "colab": {
     "base_uri": "https://localhost:8080/"
    },
    "id": "C5N_NRccoxuX",
    "outputId": "69c1fe2b-0f56-4fce-a5ab-80e4592b6ab7"
   },
   "outputs": [
    {
     "name": "stdout",
     "output_type": "stream",
     "text": [
      "Saved checkpoint to: ./qa_model_distilbert-base-uncased\n"
     ]
    }
   ],
   "source": [
    "from transformers import AutoModelForQuestionAnswering, AutoTokenizer\n",
    "\n",
    "# Re-save to be sure the latest trained weights are on disk\n",
    "_ = AutoModelForQuestionAnswering.from_pretrained(CKPT_DIR).save_pretrained(CKPT_DIR)\n",
    "_ = AutoTokenizer.from_pretrained(CKPT_DIR).save_pretrained(CKPT_DIR)\n",
    "\n",
    "with open(os.path.join(CKPT_DIR, \"model_card.txt\"), \"w\") as f:\n",
    "    f.write(f\"Model: {MODEL_NAME}\\n\")\n",
    "    f.write(f\"Notes: Fine-tuned on SQuAD v1.1 for extractive QA\\n\")\n",
    "print(\"Saved checkpoint to:\", CKPT_DIR)"
   ]
  },
  {
   "cell_type": "markdown",
   "metadata": {
    "id": "1rJS_SqlffFH"
   },
   "source": [
    "**Write metrics JSON (EM/F1)**"
   ]
  },
  {
   "cell_type": "code",
   "execution_count": 49,
   "metadata": {
    "colab": {
     "base_uri": "https://localhost:8080/",
     "height": 139
    },
    "id": "Fqg4H6nL52mf",
    "outputId": "2955f5a2-b5ab-453a-b038-eab666f500a2"
   },
   "outputs": [
    {
     "data": {
      "text/html": [],
      "text/plain": [
       "<IPython.core.display.HTML object>"
      ]
     },
     "metadata": {},
     "output_type": "display_data"
    },
    {
     "data": {
      "text/plain": [
       "{'model': 'distilbert-base-uncased',\n",
       " 'metrics': {'eval_runtime': 30.9092,\n",
       "  'eval_samples_per_second': 348.893,\n",
       "  'eval_steps_per_second': 21.806,\n",
       "  'epoch': 2.0,\n",
       "  'exact_match': 77.1523178807947,\n",
       "  'f1': 85.3652932551452}}"
      ]
     },
     "execution_count": 49,
     "metadata": {},
     "output_type": "execute_result"
    }
   ],
   "source": [
    "# Step 1: Evaluate runtime metrics (loss, eval_runtime, etc.)\n",
    "runtime_metrics = trainer.evaluate()\n",
    "\n",
    "# Step 2: Compute EM and F1\n",
    "raw_predictions = trainer.predict(validation_features[MODEL_NAME]).predictions\n",
    "compute_fn = make_compute_metrics(MODEL_NAME)\n",
    "qa_metrics = compute_fn(raw_predictions)\n",
    "\n",
    "# Step 3: Merge both\n",
    "all_metrics = {**runtime_metrics, **qa_metrics}\n",
    "\n",
    "# Step 4: Save to JSON\n",
    "metrics_out = {\n",
    "    \"model\": MODEL_NAME,\n",
    "    \"metrics\": {k: float(v) for k, v in all_metrics.items()}\n",
    "}\n",
    "with open(f\"./metrics_{MODEL_NAME.replace('/', '_')}.json\", \"w\") as f:\n",
    "    json.dump(metrics_out, f, indent=2)\n",
    "\n",
    "metrics_out"
   ]
  }
 ],
 "metadata": {
  "accelerator": "GPU",
  "colab": {
   "collapsed_sections": [
    "yTUrtI7Ui_CB",
    "PufvTm1TjNt-",
    "QV8ZRq2wkrJW",
    "epLBWjaKoDRn",
    "qZx-IO8dor7I",
    "jhe4P-1zozsk",
    "l_a4dxu1pc92"
   ],
   "gpuType": "T4",
   "provenance": []
  },
  "kernelspec": {
   "display_name": "Python 3",
   "name": "python3"
  },
  "language_info": {
   "name": "python"
  }
 },
 "nbformat": 4,
 "nbformat_minor": 0
}
